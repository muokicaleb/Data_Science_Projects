{
 "cells": [
  {
   "cell_type": "markdown",
   "metadata": {},
   "source": [
    "<h2 style=\"text-align: center;\">Housing Prices ML workflow.</h2>"
   ]
  },
  {
   "cell_type": "markdown",
   "metadata": {},
   "source": [
    "<p>Main aim is to have a workflow template of how to solve realworld machine learning problems.</p>"
   ]
  },
  {
   "cell_type": "markdown",
   "metadata": {},
   "source": [
    "<h3>Machine learning workflow.</h3>\n",
    "<p>The main steps are:\n",
    "<ul>\n",
    "    <li>Defining the problem</li>\n",
    "    <li>Specify inputs and outputs</li>\n",
    "    <li>Exploratory data analysis</li>\n",
    "    <li>Data collection</li>\n",
    "    <li>Data preprocessing</li>\n",
    "    <li>Data cleaning</li>\n",
    "    <li>Visialization\n",
    "    <li>Model Design, Training and Offline evaluation</li>\n",
    "    <li>Model Deployment, Online Evaluation and Monitoring</li>\n",
    "    <li>Model Maintenance, Diagnosis and Retraining</li>\n",
    "</ul>\n",
    "</p>"
   ]
  },
  {
   "cell_type": "markdown",
   "metadata": {},
   "source": [
    "<h3>Problem Definition.</h3>\n",
    "<p>This includes 4 steps:\n",
    "    <ul>\n",
    "        <li>Problem feature</li>\n",
    "        <li>aim</li>\n",
    "        <li>inputs and outputs</li>\n",
    "        <li>variables</li>\n",
    "    </ul>\n",
    "</p>\n",
    "<p>The dataset we will be using is house price dataset. It contains information about house prices and the target value is saleprice.<br>\n",
    "The aim is to predict the sales price for each house.\n",
    "</p>\n",
    "<h3>Inputs and outputs</h3>\n",
    "<p>the input will be a train.csv file for training and the output will be sales price for every record in test.csv </p>\n"
   ]
  },
  {
   "cell_type": "markdown",
   "metadata": {},
   "source": [
    "<p>For this project we will require various python packages</p>"
   ]
  },
  {
   "cell_type": "code",
   "execution_count": 1,
   "metadata": {},
   "outputs": [],
   "source": [
    "import warnings\n",
    "import sys\n",
    "import numpy as np # linear algebra\n",
    "import pandas as pd # data processing, CSV file I/O (e.g. pd.read_csv)\n",
    "import seaborn as sns\n",
    "import matplotlib.pyplot as plt\n",
    "# Importing metrics for evaluation\n",
    "from sklearn.metrics import accuracy_score\n",
    "from sklearn.metrics import confusion_matrix\n",
    "from sklearn.metrics import classification_report\n",
    "from scipy.stats import norm, skew #for some statistics\n",
    "\n",
    "import os\n",
    "\n",
    "%matplotlib inline\n",
    "sns.set(color_codes=True)\n",
    "warnings.filterwarnings('ignore')\n",
    "\n",
    "\n",
    "pd.set_option('display.float_format', lambda x: '{:.3f}'.format(x)) #Limiting floats output to 3 decimal points\n"
   ]
  },
  {
   "cell_type": "code",
   "execution_count": null,
   "metadata": {},
   "outputs": [],
   "source": []
  }
 ],
 "metadata": {
  "kernelspec": {
   "display_name": "Python 3",
   "language": "python",
   "name": "python3"
  },
  "language_info": {
   "codemirror_mode": {
    "name": "ipython",
    "version": 3
   },
   "file_extension": ".py",
   "mimetype": "text/x-python",
   "name": "python",
   "nbconvert_exporter": "python",
   "pygments_lexer": "ipython3",
   "version": "3.6.6"
  }
 },
 "nbformat": 4,
 "nbformat_minor": 2
}
