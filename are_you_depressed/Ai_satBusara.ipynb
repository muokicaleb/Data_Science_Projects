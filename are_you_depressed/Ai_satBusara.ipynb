{
 "cells": [
  {
   "cell_type": "code",
   "execution_count": 1,
   "metadata": {},
   "outputs": [],
   "source": [
    "#helps notebooks to automatically update when you change the source code of the modeules\n",
    "%load_ext autoreload\n",
    "%autoreload 2\n",
    "\n",
    "#show plots inside the notebook\n",
    "%matplotlib inline"
   ]
  },
  {
   "cell_type": "code",
   "execution_count": 2,
   "metadata": {},
   "outputs": [],
   "source": [
    "from fastai.imports import *\n",
    "from fastai.structured import *\n",
    "\n",
    "from pandas_summary import DataFrameSummary\n",
    "from sklearn.ensemble import RandomForestRegressor, RandomForestClassifier\n",
    "from IPython.display import display\n",
    "\n",
    "from sklearn import metrics"
   ]
  },
  {
   "cell_type": "code",
   "execution_count": 3,
   "metadata": {},
   "outputs": [],
   "source": [
    "df_raw = pd.read_csv('train.csv', low_memory=False, parse_dates=[\"survey_date\"])"
   ]
  },
  {
   "cell_type": "code",
   "execution_count": 4,
   "metadata": {},
   "outputs": [],
   "source": [
    "add_datepart(df_raw, 'survey_date')"
   ]
  },
  {
   "cell_type": "code",
   "execution_count": 5,
   "metadata": {},
   "outputs": [],
   "source": [
    "train_cats(df_raw)"
   ]
  },
  {
   "cell_type": "code",
   "execution_count": 6,
   "metadata": {},
   "outputs": [],
   "source": [
    "df, y, nas = proc_df(df_raw, 'depressed')"
   ]
  },
  {
   "cell_type": "code",
   "execution_count": 7,
   "metadata": {},
   "outputs": [
    {
     "data": {
      "text/plain": [
       "((856, 109), (856,), (287, 109))"
      ]
     },
     "execution_count": 7,
     "metadata": {},
     "output_type": "execute_result"
    }
   ],
   "source": [
    "def split_vals(a,n): return a[:n].copy(), a[n:].copy()\n",
    "\n",
    "n_valid = 287  # same as competition's test set size\n",
    "n_trn = len(df)-n_valid\n",
    "#raw_tain consists of the first n-12000 rows and raw_valid contains the last 12,000 rows for the validation set\n",
    "raw_train, raw_valid = split_vals(df_raw, n_trn)\n",
    "X_train, X_valid = split_vals(df, n_trn)\n",
    "y_train, y_valid = split_vals(y, n_trn)\n",
    "\n",
    "X_train.shape, y_train.shape, X_valid.shape"
   ]
  },
  {
   "cell_type": "code",
   "execution_count": 8,
   "metadata": {},
   "outputs": [],
   "source": [
    "def rmse(x,y): return math.sqrt(((x-y)**2).mean())\n",
    "\n",
    "def print_score(m):\n",
    "    res = [rmse(m.predict(X_train), y_train), rmse(m.predict(X_valid), y_valid),\n",
    "                m.score(X_train, y_train), m.score(X_valid, y_valid)]\n",
    "    if hasattr(m, 'oob_score_'): res.append(m.oob_score_)\n",
    "    print(res)"
   ]
  },
  {
   "cell_type": "code",
   "execution_count": 9,
   "metadata": {},
   "outputs": [
    {
     "name": "stdout",
     "output_type": "stream",
     "text": [
      "[0.0, 0.3733266964732787, 1.0, 0.8606271777003485, 0.8189252336448598]\n"
     ]
    }
   ],
   "source": [
    "m = RandomForestClassifier(n_estimators=70, n_jobs=-1, oob_score=True)\n",
    "m.fit(X_train, y_train)\n",
    "print_score(m)"
   ]
  },
  {
   "cell_type": "code",
   "execution_count": 11,
   "metadata": {},
   "outputs": [
    {
     "data": {
      "text/plain": [
       "array([0.04364, 0.04409, 0.00579, 0.05117, 0.01196, 0.02611, 0.02492, 0.03784, 0.00688, 0.00854, 0.01372,\n",
       "       0.01467, 0.01741, 0.01106, 0.00874, 0.00854, 0.     , 0.0153 , 0.01471, 0.00404, 0.00515, 0.00997,\n",
       "       0.00746, 0.01267, 0.0214 , 0.01487, 0.00298, 0.00145, 0.0017 , 0.00334, 0.00036, 0.0074 , 0.00327,\n",
       "       0.01344, 0.02014, 0.01233, 0.01332, 0.00541, 0.01483, 0.00412, 0.007  , 0.00712, 0.00181, 0.00178,\n",
       "       0.01617, 0.01006, 0.01422, 0.01129, 0.00822, 0.00503, 0.01292, 0.00451, 0.     , 0.     , 0.00079,\n",
       "       0.01499, 0.01413, 0.00746, 0.00984, 0.00891, 0.00319, 0.     , 0.01679, 0.01328, 0.00065, 0.00076,\n",
       "       0.00382, 0.00786, 0.00853, 0.00654, 0.00244, 0.00279, 0.0221 , 0.00223, 0.00974, 0.02422, 0.03269,\n",
       "       0.02092, 0.03875, 0.00391, 0.00331, 0.     , 0.0017 , 0.     , 0.     , 0.04038, 0.00073, 0.00195,\n",
       "       0.00235, 0.001  , 0.00052, 0.00047, 0.00086, 0.00157, 0.00105, 0.00361, 0.00241, 0.00334, 0.00062,\n",
       "       0.00151, 0.00176, 0.00045, 0.00156, 0.00129, 0.0007 , 0.00076, 0.00106, 0.00175, 0.00109])"
      ]
     },
     "execution_count": 11,
     "metadata": {},
     "output_type": "execute_result"
    }
   ],
   "source": [
    "m.feature_importances_"
   ]
  },
  {
   "cell_type": "code",
   "execution_count": 13,
   "metadata": {},
   "outputs": [
    {
     "data": {
      "image/png": "[encoded data removed]",
      "text/plain": [
       "<Figure size 432x288 with 1 Axes>"
      ]
     },
     "metadata": {},
     "output_type": "display_data"
    }
   ],
   "source": [
    "feat_importances = pd.Series(m.feature_importances_, index=X_train.columns)\n",
    "feat_importances.nlargest(10).plot(kind='barh')\n",
    "plt.show()"
   ]
  },
  {
   "cell_type": "code",
   "execution_count": 15,
   "metadata": {},
   "outputs": [
    {
     "data": {
      "text/plain": [
       "age                 0.051171\n",
       "village             0.044088\n",
       "surveyid            0.043641\n",
       "survey_Elapsed      0.040379\n",
       "survey_Dayofyear    0.038752\n",
       "edu                 0.037844\n",
       "survey_Day          0.032694\n",
       "children            0.026113\n",
       "hhsize              0.024916\n",
       "survey_Week         0.024216\n",
       "dtype: float64"
      ]
     },
     "execution_count": 15,
     "metadata": {},
     "output_type": "execute_result"
    }
   ],
   "source": [
    "feat_importances.nlargest(100)"
   ]
  },
  {
   "cell_type": "code",
   "execution_count": 18,
   "metadata": {},
   "outputs": [
    {
     "data": {
      "text/plain": [
       "(1143, 87)"
      ]
     },
     "execution_count": 18,
     "metadata": {},
     "output_type": "execute_result"
    }
   ],
   "source": [
    "df_raw.shape"
   ]
  }
 ],
 "metadata": {
  "kernelspec": {
   "display_name": "Python 3",
   "language": "python",
   "name": "python3"
  },
  "language_info": {
   "codemirror_mode": {
    "name": "ipython",
    "version": 3
   },
   "file_extension": ".py",
   "mimetype": "text/x-python",
   "name": "python",
   "nbconvert_exporter": "python",
   "pygments_lexer": "ipython3",
   "version": "3.6.6"
  },
  "toc": {
   "base_numbering": 1,
   "nav_menu": {},
   "number_sections": true,
   "sideBar": true,
   "skip_h1_title": false,
   "title_cell": "Table of Contents",
   "title_sidebar": "Contents",
   "toc_cell": false,
   "toc_position": {},
   "toc_section_display": true,
   "toc_window_display": false
  }
 },
 "nbformat": 4,
 "nbformat_minor": 2
}
