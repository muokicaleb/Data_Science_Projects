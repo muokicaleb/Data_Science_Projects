{
 "cells": [
  {
   "cell_type": "markdown",
   "metadata": {},
   "source": [
    "# Mtoto News Childline Prediction Challenge."
   ]
  },
  {
   "cell_type": "markdown",
   "metadata": {},
   "source": [
    "## Introduction\n",
    "The objective of this competition is to create a forecast model to predict the number of incoming calls that Childline Kenya will receive per hour per day."
   ]
  },
  {
   "cell_type": "markdown",
   "metadata": {},
   "source": [
    "## Library Imports"
   ]
  },
  {
   "cell_type": "code",
   "execution_count": 43,
   "metadata": {},
   "outputs": [
    {
     "name": "stdout",
     "output_type": "stream",
     "text": [
      "The autoreload extension is already loaded. To reload it, use:\n",
      "  %reload_ext autoreload\n"
     ]
    }
   ],
   "source": [
    "import numpy as np\n",
    "import pandas as pd\n",
    "import matplotlib.pyplot as plt\n",
    "import seaborn as sns\n",
    "\n",
    "%load_ext autoreload\n",
    "%autoreload"
   ]
  },
  {
   "cell_type": "markdown",
   "metadata": {},
   "source": [
    "## Loading the data.\n",
    "The data available is in three files;\n",
    "1. train.csv - contains train data.\n",
    "2. KenyaPublicHolidays2016.csv\t- list of public holidays in 2016\n",
    "3. WeatherNairobi2016.xls - weather details."
   ]
  },
  {
   "cell_type": "code",
   "execution_count": 44,
   "metadata": {},
   "outputs": [
    {
     "name": "stderr",
     "output_type": "stream",
     "text": [
      "/home/muoki/anaconda3/lib/python3.7/site-packages/IPython/core/interactiveshell.py:2785: DtypeWarning: Columns (12,13,14,18) have mixed types. Specify dtype option on import or set low_memory=False.\n",
      "  interactivity=interactivity, compiler=compiler, result=result)\n"
     ]
    }
   ],
   "source": [
    "df_train = pd.read_csv('train.csv')\n"
   ]
  },
  {
   "cell_type": "code",
   "execution_count": 45,
   "metadata": {},
   "outputs": [
    {
     "data": {
      "text/html": [
       "<div>\n",
       "<style scoped>\n",
       "    .dataframe tbody tr th:only-of-type {\n",
       "        vertical-align: middle;\n",
       "    }\n",
       "\n",
       "    .dataframe tbody tr th {\n",
       "        vertical-align: top;\n",
       "    }\n",
       "\n",
       "    .dataframe thead th {\n",
       "        text-align: right;\n",
       "    }\n",
       "</style>\n",
       "<table border=\"1\" class=\"dataframe\">\n",
       "  <thead>\n",
       "    <tr style=\"text-align: right;\">\n",
       "      <th></th>\n",
       "      <th>calldate</th>\n",
       "      <th>cc_status</th>\n",
       "      <th>maincat</th>\n",
       "      <th>subcat1</th>\n",
       "      <th>casepriority</th>\n",
       "      <th>referal</th>\n",
       "      <th>caller_gender</th>\n",
       "      <th>caller_age</th>\n",
       "      <th>caller_county</th>\n",
       "      <th>child_age</th>\n",
       "      <th>child_gender</th>\n",
       "      <th>child_county</th>\n",
       "      <th>parent_age</th>\n",
       "      <th>parent_gender</th>\n",
       "      <th>parent_county</th>\n",
       "      <th>Abuser_Relationship</th>\n",
       "      <th>Neglector_Relationship</th>\n",
       "      <th>Perpetrator_Relationship</th>\n",
       "      <th>Physical abuser_Relationship</th>\n",
       "    </tr>\n",
       "  </thead>\n",
       "  <tbody>\n",
       "    <tr>\n",
       "      <th>0</th>\n",
       "      <td>2016-01-01 07:26:47</td>\n",
       "      <td>Closed</td>\n",
       "      <td>non-interventional</td>\n",
       "      <td>Blank call</td>\n",
       "      <td>Non Critical</td>\n",
       "      <td>NaN</td>\n",
       "      <td>NaN</td>\n",
       "      <td>NaN</td>\n",
       "      <td>NaN</td>\n",
       "      <td>NaN</td>\n",
       "      <td>NaN</td>\n",
       "      <td>NaN</td>\n",
       "      <td>NaN</td>\n",
       "      <td>NaN</td>\n",
       "      <td>NaN</td>\n",
       "      <td>NaN</td>\n",
       "      <td>NaN</td>\n",
       "      <td>NaN</td>\n",
       "      <td>NaN</td>\n",
       "    </tr>\n",
       "    <tr>\n",
       "      <th>1</th>\n",
       "      <td>2016-01-01 07:32:30</td>\n",
       "      <td>Closed</td>\n",
       "      <td>non-interventional</td>\n",
       "      <td>Blank call</td>\n",
       "      <td>Non Critical</td>\n",
       "      <td>NaN</td>\n",
       "      <td>NaN</td>\n",
       "      <td>NaN</td>\n",
       "      <td>NaN</td>\n",
       "      <td>NaN</td>\n",
       "      <td>NaN</td>\n",
       "      <td>NaN</td>\n",
       "      <td>NaN</td>\n",
       "      <td>NaN</td>\n",
       "      <td>NaN</td>\n",
       "      <td>NaN</td>\n",
       "      <td>NaN</td>\n",
       "      <td>NaN</td>\n",
       "      <td>NaN</td>\n",
       "    </tr>\n",
       "  </tbody>\n",
       "</table>\n",
       "</div>"
      ],
      "text/plain": [
       "              calldate cc_status             maincat     subcat1  \\\n",
       "0  2016-01-01 07:26:47    Closed  non-interventional  Blank call   \n",
       "1  2016-01-01 07:32:30    Closed  non-interventional  Blank call   \n",
       "\n",
       "   casepriority referal caller_gender caller_age caller_county child_age  \\\n",
       "0  Non Critical     NaN           NaN        NaN           NaN       NaN   \n",
       "1  Non Critical     NaN           NaN        NaN           NaN       NaN   \n",
       "\n",
       "  child_gender child_county parent_age parent_gender parent_county  \\\n",
       "0          NaN          NaN        NaN           NaN           NaN   \n",
       "1          NaN          NaN        NaN           NaN           NaN   \n",
       "\n",
       "  Abuser_Relationship Neglector_Relationship Perpetrator_Relationship  \\\n",
       "0                 NaN                    NaN                      NaN   \n",
       "1                 NaN                    NaN                      NaN   \n",
       "\n",
       "  Physical abuser_Relationship  \n",
       "0                          NaN  \n",
       "1                          NaN  "
      ]
     },
     "execution_count": 45,
     "metadata": {},
     "output_type": "execute_result"
    }
   ],
   "source": [
    "df_train.head(2)"
   ]
  },
  {
   "cell_type": "code",
   "execution_count": 46,
   "metadata": {},
   "outputs": [
    {
     "data": {
      "text/plain": [
       "(135988, 19)"
      ]
     },
     "execution_count": 46,
     "metadata": {},
     "output_type": "execute_result"
    }
   ],
   "source": [
    "df_train.shape"
   ]
  },
  {
   "cell_type": "markdown",
   "metadata": {},
   "source": [
    "The first column is a date time  column we can split it into date and time separate columns.\n"
   ]
  },
  {
   "cell_type": "code",
   "execution_count": 65,
   "metadata": {},
   "outputs": [],
   "source": [
    "df_train['date'] = pd.to_datetime(df_train['calldate'],format='%Y/%m/%d')"
   ]
  },
  {
   "cell_type": "code",
   "execution_count": 87,
   "metadata": {},
   "outputs": [],
   "source": []
  },
  {
   "cell_type": "code",
   "execution_count": null,
   "metadata": {},
   "outputs": [],
   "source": [
    "df = df_train.drop(['calldate', 'date'], axis=1)"
   ]
  },
  {
   "cell_type": "code",
   "execution_count": null,
   "metadata": {},
   "outputs": [],
   "source": []
  },
  {
   "cell_type": "code",
   "execution_count": null,
   "metadata": {},
   "outputs": [],
   "source": [
    "df = df[['cdate', 'ctime','cc_status', 'maincat', 'subcat1', 'casepriority', 'referal',\n",
    "       'caller_gender', 'caller_age', 'caller_county', 'child_age',\n",
    "       'child_gender', 'child_county', 'parent_age', 'parent_gender',\n",
    "       'parent_county', 'Abuser_Relationship', 'Neglector_Relationship',\n",
    "       'Perpetrator_Relationship', 'Physical abuser_Relationship']]"
   ]
  },
  {
   "cell_type": "code",
   "execution_count": null,
   "metadata": {},
   "outputs": [],
   "source": [
    "df.head()"
   ]
  },
  {
   "cell_type": "code",
   "execution_count": null,
   "metadata": {},
   "outputs": [],
   "source": []
  },
  {
   "cell_type": "code",
   "execution_count": null,
   "metadata": {},
   "outputs": [],
   "source": []
  },
  {
   "cell_type": "markdown",
   "metadata": {},
   "source": [
    "What we are trying to predict is the number of calls received at a single time."
   ]
  },
  {
   "cell_type": "markdown",
   "metadata": {},
   "source": [
    "##### Variable Definition\n",
    "\n",
    "calldate Date (month-day-year) \n",
    "ctime time of call\n",
    "\n",
    "cc_status Case status\n",
    "\n",
    "maincat Main category call falls into\n",
    "\n",
    "subcat1 Subcategory call falls under\n",
    "\n",
    "casepriority Priority of the case\n",
    "\n",
    "referal Place case referred to\n",
    "\n",
    "caller_gender Gender of the caller\n",
    "\n",
    "caller_age Age of the caller\n",
    "\n",
    "caller_county Area where call came from\n",
    "\n",
    "child_age Age of the child in case\n",
    "\n",
    "child_gender Gender of the child in case\n",
    "\n",
    "child_county Area where child is from\n",
    "\n",
    "parent_age Age of the parent\n",
    "\n",
    "parent_gender Gender of the parent\n",
    "\n",
    "parent_county Area where child is from\n",
    "\n",
    "Abuser_Relationship Relationship abuser has with child in case\n",
    "\n",
    "Neglector_Relationship Relationship neglector has with child in case\n",
    "\n",
    "Physical_abuser_Relationship Relationship physical abuser has with child in case"
   ]
  },
  {
   "cell_type": "markdown",
   "metadata": {},
   "source": []
  },
  {
   "cell_type": "code",
   "execution_count": null,
   "metadata": {},
   "outputs": [],
   "source": [
    "!ls"
   ]
  },
  {
   "cell_type": "markdown",
   "metadata": {},
   "source": [
    "## Visualization"
   ]
  },
  {
   "cell_type": "code",
   "execution_count": null,
   "metadata": {},
   "outputs": [],
   "source": []
  },
  {
   "cell_type": "markdown",
   "metadata": {},
   "source": [
    "## Modeling"
   ]
  },
  {
   "cell_type": "code",
   "execution_count": null,
   "metadata": {},
   "outputs": [],
   "source": [
    "\n"
   ]
  },
  {
   "cell_type": "markdown",
   "metadata": {},
   "source": [
    "## Results"
   ]
  },
  {
   "cell_type": "code",
   "execution_count": null,
   "metadata": {},
   "outputs": [],
   "source": [
    "\n"
   ]
  },
  {
   "cell_type": "markdown",
   "metadata": {},
   "source": [
    "## Conclusions"
   ]
  },
  {
   "cell_type": "code",
   "execution_count": null,
   "metadata": {},
   "outputs": [],
   "source": []
  }
 ],
 "metadata": {
  "kernelspec": {
   "display_name": "Python 3",
   "language": "python",
   "name": "python3"
  },
  "language_info": {
   "codemirror_mode": {
    "name": "ipython",
    "version": 3
   },
   "file_extension": ".py",
   "mimetype": "text/x-python",
   "name": "python",
   "nbconvert_exporter": "python",
   "pygments_lexer": "ipython3",
   "version": "3.7.0"
  },
  "toc": {
   "base_numbering": 1,
   "nav_menu": {},
   "number_sections": false,
   "sideBar": true,
   "skip_h1_title": false,
   "title_cell": "Table of Contents",
   "title_sidebar": "Contents",
   "toc_cell": false,
   "toc_position": {
    "height": "calc(100% - 180px)",
    "left": "10px",
    "top": "150px",
    "width": "273.2px"
   },
   "toc_section_display": true,
   "toc_window_display": true
  }
 },
 "nbformat": 4,
 "nbformat_minor": 2
}
