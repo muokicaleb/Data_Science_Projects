{
 "cells": [
  {
   "cell_type": "markdown",
   "metadata": {},
   "source": [
    "## Decision Tree.\n",
    "This is a tree where each node represents a feature, each link represents a decision and each leaf represents an outcome.\n",
    "Decision trees are used in both classification and regression problems. Decision trees are used because:\n",
    "1. They mimic the human level thinking so its simple to understand the data and make interpretations.\n",
    "2. They are not like black boxes one can see the logic behind them..\n",
    "\n",
    "### Introduction\n",
    "In this notebook we will be using Decision Trees to build a classification model. The purpose of the model is to classify sensor data to determine the type of action being measured. There are 3 actions walk, sit and run. They are represented by values 10 for walk, 13 for sit and 16 for run. The data is in csv formart. We will be using several libraries such as pandas and sklearn among others.\n",
    "\n",
    "#### Code"
   ]
  },
  {
   "cell_type": "code",
   "execution_count": 1,
   "metadata": {},
   "outputs": [],
   "source": [
    "import pandas as pd # used to load data and manipulate the dataframe\n",
    "from sklearn.metrics import classification_report, confusion_matrix # print metrics \n",
    "from sklearn.tree import DecisionTreeClassifier # classifier used\n",
    "from sklearn.model_selection import train_test_split # spliting the data into train and test.\n",
    "# plot the graphs in the same window.\n",
    "%matplotlib inline "
   ]
  },
  {
   "cell_type": "code",
   "execution_count": 2,
   "metadata": {},
   "outputs": [],
   "source": [
    "df = pd.read_csv(\"final.csv\")"
   ]
  },
  {
   "cell_type": "markdown",
   "metadata": {},
   "source": [
    "#### Exploring the data."
   ]
  },
  {
   "cell_type": "code",
   "execution_count": 3,
   "metadata": {},
   "outputs": [
    {
     "name": "stdout",
     "output_type": "stream",
     "text": [
      "Shape of data (609517, 6)\n"
     ]
    },
    {
     "data": {
      "text/html": [
       "<div>\n",
       "<style scoped>\n",
       "    .dataframe tbody tr th:only-of-type {\n",
       "        vertical-align: middle;\n",
       "    }\n",
       "\n",
       "    .dataframe tbody tr th {\n",
       "        vertical-align: top;\n",
       "    }\n",
       "\n",
       "    .dataframe thead th {\n",
       "        text-align: right;\n",
       "    }\n",
       "</style>\n",
       "<table border=\"1\" class=\"dataframe\">\n",
       "  <thead>\n",
       "    <tr style=\"text-align: right;\">\n",
       "      <th></th>\n",
       "      <th>statusId</th>\n",
       "      <th>sensorName</th>\n",
       "      <th>x</th>\n",
       "      <th>y</th>\n",
       "      <th>z</th>\n",
       "      <th>timestamp</th>\n",
       "    </tr>\n",
       "  </thead>\n",
       "  <tbody>\n",
       "    <tr>\n",
       "      <th>0</th>\n",
       "      <td>10</td>\n",
       "      <td>Linear Acceleration Sensor</td>\n",
       "      <td>0.033406</td>\n",
       "      <td>-0.052814</td>\n",
       "      <td>-0.100903</td>\n",
       "      <td>1551193723100</td>\n",
       "    </tr>\n",
       "    <tr>\n",
       "      <th>1</th>\n",
       "      <td>10</td>\n",
       "      <td>Linear Acceleration Sensor</td>\n",
       "      <td>0.011416</td>\n",
       "      <td>-0.084455</td>\n",
       "      <td>-0.039792</td>\n",
       "      <td>1551193723106</td>\n",
       "    </tr>\n",
       "    <tr>\n",
       "      <th>2</th>\n",
       "      <td>10</td>\n",
       "      <td>Linear Acceleration Sensor</td>\n",
       "      <td>0.017547</td>\n",
       "      <td>-0.160472</td>\n",
       "      <td>-0.010501</td>\n",
       "      <td>1551193723112</td>\n",
       "    </tr>\n",
       "    <tr>\n",
       "      <th>3</th>\n",
       "      <td>10</td>\n",
       "      <td>Linear Acceleration Sensor</td>\n",
       "      <td>0.041507</td>\n",
       "      <td>-0.188060</td>\n",
       "      <td>-0.052785</td>\n",
       "      <td>1551193723118</td>\n",
       "    </tr>\n",
       "    <tr>\n",
       "      <th>4</th>\n",
       "      <td>10</td>\n",
       "      <td>Linear Acceleration Sensor</td>\n",
       "      <td>0.092871</td>\n",
       "      <td>-0.252690</td>\n",
       "      <td>0.003527</td>\n",
       "      <td>1551193723124</td>\n",
       "    </tr>\n",
       "  </tbody>\n",
       "</table>\n",
       "</div>"
      ],
      "text/plain": [
       "   statusId                  sensorName         x         y         z  \\\n",
       "0        10  Linear Acceleration Sensor  0.033406 -0.052814 -0.100903   \n",
       "1        10  Linear Acceleration Sensor  0.011416 -0.084455 -0.039792   \n",
       "2        10  Linear Acceleration Sensor  0.017547 -0.160472 -0.010501   \n",
       "3        10  Linear Acceleration Sensor  0.041507 -0.188060 -0.052785   \n",
       "4        10  Linear Acceleration Sensor  0.092871 -0.252690  0.003527   \n",
       "\n",
       "       timestamp  \n",
       "0  1551193723100  \n",
       "1  1551193723106  \n",
       "2  1551193723112  \n",
       "3  1551193723118  \n",
       "4  1551193723124  "
      ]
     },
     "execution_count": 3,
     "metadata": {},
     "output_type": "execute_result"
    }
   ],
   "source": [
    "print(\"Shape of data {}\" .format(df.shape))\n",
    "df.head()\n"
   ]
  },
  {
   "cell_type": "code",
   "execution_count": 4,
   "metadata": {},
   "outputs": [
    {
     "data": {
      "text/plain": [
       "statusId      0\n",
       "sensorName    0\n",
       "x             0\n",
       "y             0\n",
       "z             0\n",
       "timestamp     0\n",
       "dtype: int64"
      ]
     },
     "execution_count": 4,
     "metadata": {},
     "output_type": "execute_result"
    }
   ],
   "source": [
    "df.isnull().sum()"
   ]
  },
  {
   "cell_type": "markdown",
   "metadata": {},
   "source": [
    "The data has 6 coulmns with 609517 entries. None of the values are null. Among the 6 features we do not require the sensorName as all entries are using the same sensor thus it will make no difference by removing it. We will also remove  timestamp column as it is not important in this case."
   ]
  },
  {
   "cell_type": "code",
   "execution_count": 5,
   "metadata": {},
   "outputs": [],
   "source": [
    "df = df.drop([\"timestamp\",\"sensorName\"], axis=1)"
   ]
  },
  {
   "cell_type": "code",
   "execution_count": 6,
   "metadata": {},
   "outputs": [
    {
     "data": {
      "text/html": [
       "<div>\n",
       "<style scoped>\n",
       "    .dataframe tbody tr th:only-of-type {\n",
       "        vertical-align: middle;\n",
       "    }\n",
       "\n",
       "    .dataframe tbody tr th {\n",
       "        vertical-align: top;\n",
       "    }\n",
       "\n",
       "    .dataframe thead th {\n",
       "        text-align: right;\n",
       "    }\n",
       "</style>\n",
       "<table border=\"1\" class=\"dataframe\">\n",
       "  <thead>\n",
       "    <tr style=\"text-align: right;\">\n",
       "      <th></th>\n",
       "      <th>statusId</th>\n",
       "      <th>x</th>\n",
       "      <th>y</th>\n",
       "      <th>z</th>\n",
       "    </tr>\n",
       "  </thead>\n",
       "  <tbody>\n",
       "    <tr>\n",
       "      <th>0</th>\n",
       "      <td>10</td>\n",
       "      <td>0.033406</td>\n",
       "      <td>-0.052814</td>\n",
       "      <td>-0.100903</td>\n",
       "    </tr>\n",
       "    <tr>\n",
       "      <th>1</th>\n",
       "      <td>10</td>\n",
       "      <td>0.011416</td>\n",
       "      <td>-0.084455</td>\n",
       "      <td>-0.039792</td>\n",
       "    </tr>\n",
       "  </tbody>\n",
       "</table>\n",
       "</div>"
      ],
      "text/plain": [
       "   statusId         x         y         z\n",
       "0        10  0.033406 -0.052814 -0.100903\n",
       "1        10  0.011416 -0.084455 -0.039792"
      ]
     },
     "execution_count": 6,
     "metadata": {},
     "output_type": "execute_result"
    }
   ],
   "source": [
    "df.head(2)"
   ]
  },
  {
   "cell_type": "markdown",
   "metadata": {},
   "source": [
    "## Preparing the data \n",
    "We divide our data into training and test. By doing this we can train our model on one set of data and then test it on a completely different set of data. our training set will comprise of 80% of the total data and 20% of the test.\n",
    "The value were predicting is the statusId which will be our y while the rest for our values will be the x values."
   ]
  },
  {
   "cell_type": "code",
   "execution_count": 7,
   "metadata": {},
   "outputs": [],
   "source": [
    "x = df.drop(\"statusId\", axis=1)\n",
    "y = df.statusId"
   ]
  },
  {
   "cell_type": "code",
   "execution_count": 8,
   "metadata": {},
   "outputs": [
    {
     "name": "stdout",
     "output_type": "stream",
     "text": [
      "The shape of x is (609517, 3) \n",
      "The shape of y is (609517,)\n"
     ]
    }
   ],
   "source": [
    "print(\"The shape of x is {} \\nThe shape of y is {}\"  .format(x.shape, y.shape))"
   ]
  },
  {
   "cell_type": "markdown",
   "metadata": {},
   "source": [
    "##### Spliting the data."
   ]
  },
  {
   "cell_type": "code",
   "execution_count": 9,
   "metadata": {},
   "outputs": [],
   "source": [
    "x_train, x_test, y_train, y_test = train_test_split(x,y, test_size=0.2)"
   ]
  },
  {
   "cell_type": "code",
   "execution_count": 10,
   "metadata": {},
   "outputs": [
    {
     "name": "stdout",
     "output_type": "stream",
     "text": [
      "The shape of x_train is (487613, 3) \n",
      "The shape of x_test is (121904, 3)\n",
      "\n",
      "The shape of y_train is (487613,) \n",
      "The shape of y_test is (121904,)\n"
     ]
    }
   ],
   "source": [
    "print(\"The shape of x_train is {} \\nThe shape of x_test is {}\"  .format( x_train.shape,  x_test.shape))\n",
    "print(\"\\nThe shape of y_train is {} \\nThe shape of y_test is {}\"  .format( y_train.shape,  y_test.shape))"
   ]
  },
  {
   "cell_type": "markdown",
   "metadata": {},
   "source": [
    "### Training and making prediction.\n",
    "Once the data has been split into training and test the final step is to train the model on this data  and make predictions.\n",
    "Sciklearn contains the tree library which contains built in classes/ methods for various decision tree algorythms. we use DecisionTreeClassifier for this case the fit method in this class is called to trian the algo on the training data.\n"
   ]
  },
  {
   "cell_type": "code",
   "execution_count": 11,
   "metadata": {},
   "outputs": [
    {
     "data": {
      "text/plain": [
       "DecisionTreeClassifier(class_weight=None, criterion='gini', max_depth=None,\n",
       "            max_features=None, max_leaf_nodes=None,\n",
       "            min_impurity_decrease=0.0, min_impurity_split=None,\n",
       "            min_samples_leaf=1, min_samples_split=2,\n",
       "            min_weight_fraction_leaf=0.0, presort=False, random_state=None,\n",
       "            splitter='best')"
      ]
     },
     "execution_count": 11,
     "metadata": {},
     "output_type": "execute_result"
    }
   ],
   "source": [
    "classifier = DecisionTreeClassifier()\n",
    "classifier.fit(x_train, y_train)"
   ]
  },
  {
   "cell_type": "code",
   "execution_count": 12,
   "metadata": {},
   "outputs": [],
   "source": [
    "from fastai.imports import *\n",
    "from fastai.structured import *"
   ]
  },
  {
   "cell_type": "code",
   "execution_count": 15,
   "metadata": {},
   "outputs": [],
   "source": [
    "??draw_tree"
   ]
  },
  {
   "cell_type": "code",
   "execution_count": 13,
   "metadata": {},
   "outputs": [
    {
     "ename": "NameError",
     "evalue": "name 'm' is not defined",
     "output_type": "error",
     "traceback": [
      "\u001b[0;31m---------------------------------------------------------------------------\u001b[0m",
      "\u001b[0;31mNameError\u001b[0m                                 Traceback (most recent call last)",
      "\u001b[0;32m<ipython-input-13-740f0ee40a6f>\u001b[0m in \u001b[0;36m<module>\u001b[0;34m()\u001b[0m\n\u001b[0;32m----> 1\u001b[0;31m \u001b[0mdraw_tree\u001b[0m\u001b[0;34m(\u001b[0m\u001b[0mm\u001b[0m\u001b[0;34m.\u001b[0m\u001b[0mestimators_\u001b[0m\u001b[0;34m[\u001b[0m\u001b[0;36m0\u001b[0m\u001b[0;34m]\u001b[0m\u001b[0;34m,\u001b[0m \u001b[0mx_trn\u001b[0m\u001b[0;34m,\u001b[0m \u001b[0mprecision\u001b[0m\u001b[0;34m=\u001b[0m\u001b[0;36m3\u001b[0m\u001b[0;34m)\u001b[0m\u001b[0;34m\u001b[0m\u001b[0m\n\u001b[0m",
      "\u001b[0;31mNameError\u001b[0m: name 'm' is not defined"
     ]
    }
   ],
   "source": [
    "draw_tree(m.estimators_[0], x_trn, precision=3)"
   ]
  },
  {
   "cell_type": "markdown",
   "metadata": {},
   "source": [
    "Using our model we can make predictions."
   ]
  },
  {
   "cell_type": "code",
   "execution_count": null,
   "metadata": {},
   "outputs": [],
   "source": [
    "y_pred = classifier.predict(x_test)"
   ]
  },
  {
   "cell_type": "markdown",
   "metadata": {},
   "source": [
    "### Model Evaluation.\n",
    "For classification task some commonly used metrics are confusion matrix precision, recall and F1 score. In sklearn the metrics library is used which contains classification_report and confusion matrix method. That can be used to calculate the three metrics."
   ]
  },
  {
   "cell_type": "code",
   "execution_count": null,
   "metadata": {},
   "outputs": [],
   "source": [
    "print(confusion_matrix(y_test, y_pred))\n",
    "print(classification_report(y_test, y_pred))"
   ]
  },
  {
   "cell_type": "markdown",
   "metadata": {},
   "source": [
    "Our model has an accuracy of 89%. "
   ]
  },
  {
   "cell_type": "code",
   "execution_count": null,
   "metadata": {},
   "outputs": [],
   "source": []
  }
 ],
 "metadata": {
  "kernelspec": {
   "display_name": "Python 3",
   "language": "python",
   "name": "python3"
  },
  "language_info": {
   "codemirror_mode": {
    "name": "ipython",
    "version": 3
   },
   "file_extension": ".py",
   "mimetype": "text/x-python",
   "name": "python",
   "nbconvert_exporter": "python",
   "pygments_lexer": "ipython3",
   "version": "3.6.6"
  }
 },
 "nbformat": 4,
 "nbformat_minor": 2
}
