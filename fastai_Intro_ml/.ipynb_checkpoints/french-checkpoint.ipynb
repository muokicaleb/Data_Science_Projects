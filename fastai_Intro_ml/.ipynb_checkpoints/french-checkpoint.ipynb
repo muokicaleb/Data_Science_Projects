{
 "cells": [
  {
   "cell_type": "code",
   "execution_count": 1,
   "metadata": {},
   "outputs": [
    {
     "ename": "ModuleNotFoundError",
     "evalue": "No module named 'graphviz'",
     "output_type": "error",
     "traceback": [
      "\u001b[0;31m---------------------------------------------------------------------------\u001b[0m",
      "\u001b[0;31mModuleNotFoundError\u001b[0m                       Traceback (most recent call last)",
      "\u001b[0;32m<ipython-input-1-7b29e2e1c074>\u001b[0m in \u001b[0;36m<module>\u001b[0;34m()\u001b[0m\n\u001b[0;32m----> 1\u001b[0;31m \u001b[0;32mfrom\u001b[0m \u001b[0mfastai\u001b[0m\u001b[0;34m.\u001b[0m\u001b[0mtext\u001b[0m \u001b[0;32mimport\u001b[0m \u001b[0;34m*\u001b[0m\u001b[0;34m\u001b[0m\u001b[0m\n\u001b[0m\u001b[1;32m      2\u001b[0m \u001b[0;32mfrom\u001b[0m \u001b[0mfastai\u001b[0m\u001b[0;34m.\u001b[0m\u001b[0mdocs\u001b[0m \u001b[0;32mimport\u001b[0m \u001b[0mdownload_wt103_model\u001b[0m\u001b[0;34m\u001b[0m\u001b[0m\n\u001b[1;32m      3\u001b[0m \u001b[0;32mfrom\u001b[0m \u001b[0mpathlib\u001b[0m \u001b[0;32mimport\u001b[0m \u001b[0mPath\u001b[0m\u001b[0;34m\u001b[0m\u001b[0m\n\u001b[1;32m      4\u001b[0m \u001b[0;32mimport\u001b[0m \u001b[0mhtml\u001b[0m\u001b[0;34m\u001b[0m\u001b[0m\n\u001b[1;32m      5\u001b[0m \u001b[0;32mimport\u001b[0m \u001b[0mre\u001b[0m\u001b[0;34m\u001b[0m\u001b[0m\n",
      "\u001b[0;32m/media/muoki/data/documents/code_training/portfolio/DataScienceProjects/fastai_Intro_ml/fastai/text.py\u001b[0m in \u001b[0;36m<module>\u001b[0;34m()\u001b[0m\n\u001b[0;32m----> 1\u001b[0;31m \u001b[0;32mfrom\u001b[0m \u001b[0;34m.\u001b[0m\u001b[0mcore\u001b[0m \u001b[0;32mimport\u001b[0m \u001b[0;34m*\u001b[0m\u001b[0;34m\u001b[0m\u001b[0m\n\u001b[0m\u001b[1;32m      2\u001b[0m \u001b[0;32mfrom\u001b[0m \u001b[0;34m.\u001b[0m\u001b[0mlearner\u001b[0m \u001b[0;32mimport\u001b[0m \u001b[0;34m*\u001b[0m\u001b[0;34m\u001b[0m\u001b[0m\n\u001b[1;32m      3\u001b[0m \u001b[0;32mfrom\u001b[0m \u001b[0;34m.\u001b[0m\u001b[0mlm_rnn\u001b[0m \u001b[0;32mimport\u001b[0m \u001b[0;34m*\u001b[0m\u001b[0;34m\u001b[0m\u001b[0m\n\u001b[1;32m      4\u001b[0m \u001b[0;32mfrom\u001b[0m \u001b[0mtorch\u001b[0m\u001b[0;34m.\u001b[0m\u001b[0mutils\u001b[0m\u001b[0;34m.\u001b[0m\u001b[0mdata\u001b[0m\u001b[0;34m.\u001b[0m\u001b[0msampler\u001b[0m \u001b[0;32mimport\u001b[0m \u001b[0mSampler\u001b[0m\u001b[0;34m\u001b[0m\u001b[0m\n\u001b[1;32m      5\u001b[0m \u001b[0;32mimport\u001b[0m \u001b[0mspacy\u001b[0m\u001b[0;34m\u001b[0m\u001b[0m\n",
      "\u001b[0;32m/media/muoki/data/documents/code_training/portfolio/DataScienceProjects/fastai_Intro_ml/fastai/core.py\u001b[0m in \u001b[0;36m<module>\u001b[0;34m()\u001b[0m\n\u001b[0;32m----> 1\u001b[0;31m \u001b[0;32mfrom\u001b[0m \u001b[0;34m.\u001b[0m\u001b[0mimports\u001b[0m \u001b[0;32mimport\u001b[0m \u001b[0;34m*\u001b[0m\u001b[0;34m\u001b[0m\u001b[0m\n\u001b[0m\u001b[1;32m      2\u001b[0m \u001b[0;32mfrom\u001b[0m \u001b[0;34m.\u001b[0m\u001b[0mtorch_imports\u001b[0m \u001b[0;32mimport\u001b[0m \u001b[0;34m*\u001b[0m\u001b[0;34m\u001b[0m\u001b[0m\n\u001b[1;32m      3\u001b[0m \u001b[0;34m\u001b[0m\u001b[0m\n\u001b[1;32m      4\u001b[0m \u001b[0;32mdef\u001b[0m \u001b[0msum_geom\u001b[0m\u001b[0;34m(\u001b[0m\u001b[0ma\u001b[0m\u001b[0;34m,\u001b[0m\u001b[0mr\u001b[0m\u001b[0;34m,\u001b[0m\u001b[0mn\u001b[0m\u001b[0;34m)\u001b[0m\u001b[0;34m:\u001b[0m \u001b[0;32mreturn\u001b[0m \u001b[0ma\u001b[0m\u001b[0;34m*\u001b[0m\u001b[0mn\u001b[0m \u001b[0;32mif\u001b[0m \u001b[0mr\u001b[0m\u001b[0;34m==\u001b[0m\u001b[0;36m1\u001b[0m \u001b[0;32melse\u001b[0m \u001b[0mmath\u001b[0m\u001b[0;34m.\u001b[0m\u001b[0mceil\u001b[0m\u001b[0;34m(\u001b[0m\u001b[0ma\u001b[0m\u001b[0;34m*\u001b[0m\u001b[0;34m(\u001b[0m\u001b[0;36m1\u001b[0m\u001b[0;34m-\u001b[0m\u001b[0mr\u001b[0m\u001b[0;34m**\u001b[0m\u001b[0mn\u001b[0m\u001b[0;34m)\u001b[0m\u001b[0;34m/\u001b[0m\u001b[0;34m(\u001b[0m\u001b[0;36m1\u001b[0m\u001b[0;34m-\u001b[0m\u001b[0mr\u001b[0m\u001b[0;34m)\u001b[0m\u001b[0;34m)\u001b[0m\u001b[0;34m\u001b[0m\u001b[0m\n\u001b[1;32m      5\u001b[0m \u001b[0;34m\u001b[0m\u001b[0m\n",
      "\u001b[0;32m/media/muoki/data/documents/code_training/portfolio/DataScienceProjects/fastai_Intro_ml/fastai/imports.py\u001b[0m in \u001b[0;36m<module>\u001b[0;34m()\u001b[0m\n\u001b[1;32m      3\u001b[0m \u001b[0;32mimport\u001b[0m \u001b[0mpandas\u001b[0m \u001b[0;32mas\u001b[0m \u001b[0mpd\u001b[0m\u001b[0;34m,\u001b[0m \u001b[0mpickle\u001b[0m\u001b[0;34m,\u001b[0m \u001b[0msys\u001b[0m\u001b[0;34m,\u001b[0m \u001b[0mitertools\u001b[0m\u001b[0;34m,\u001b[0m \u001b[0mstring\u001b[0m\u001b[0;34m,\u001b[0m \u001b[0msys\u001b[0m\u001b[0;34m,\u001b[0m \u001b[0mre\u001b[0m\u001b[0;34m,\u001b[0m \u001b[0mdatetime\u001b[0m\u001b[0;34m,\u001b[0m \u001b[0mtime\u001b[0m\u001b[0;34m,\u001b[0m \u001b[0mshutil\u001b[0m\u001b[0;34m,\u001b[0m \u001b[0mcopy\u001b[0m\u001b[0;34m\u001b[0m\u001b[0m\n\u001b[1;32m      4\u001b[0m \u001b[0;32mimport\u001b[0m \u001b[0mseaborn\u001b[0m \u001b[0;32mas\u001b[0m \u001b[0msns\u001b[0m\u001b[0;34m,\u001b[0m \u001b[0mmatplotlib\u001b[0m\u001b[0;34m\u001b[0m\u001b[0m\n\u001b[0;32m----> 5\u001b[0;31m \u001b[0;32mimport\u001b[0m \u001b[0mIPython\u001b[0m\u001b[0;34m,\u001b[0m \u001b[0mgraphviz\u001b[0m\u001b[0;34m,\u001b[0m \u001b[0msklearn_pandas\u001b[0m\u001b[0;34m,\u001b[0m \u001b[0msklearn\u001b[0m\u001b[0;34m,\u001b[0m \u001b[0mwarnings\u001b[0m\u001b[0;34m,\u001b[0m \u001b[0mpdb\u001b[0m\u001b[0;34m\u001b[0m\u001b[0m\n\u001b[0m\u001b[1;32m      6\u001b[0m \u001b[0;32mimport\u001b[0m \u001b[0mcontextlib\u001b[0m\u001b[0;34m\u001b[0m\u001b[0m\n\u001b[1;32m      7\u001b[0m \u001b[0;32mfrom\u001b[0m \u001b[0mabc\u001b[0m \u001b[0;32mimport\u001b[0m \u001b[0mabstractmethod\u001b[0m\u001b[0;34m\u001b[0m\u001b[0m\n",
      "\u001b[0;31mModuleNotFoundError\u001b[0m: No module named 'graphviz'"
     ]
    }
   ],
   "source": [
    "from fastai.text import *\n",
    "from fastai.docs import download_wt103_model\n",
    "from pathlib import Path\n",
    "import html\n",
    "import re\n",
    "import dill as pickle\n",
    "import pandas as pd\n",
    "from sklearn.model_selection import train_test_split"
   ]
  },
  {
   "cell_type": "code",
   "execution_count": 2,
   "metadata": {},
   "outputs": [],
   "source": [
    "PATH = Path('/data2/translate')\n",
    "TMP_PATH = PATH/'tmp'\n",
    "TMP_PATH.mkdir(exist_ok=True)\n",
    "fname='giga-fren.release2.fixed'\n",
    "en_fname=PATH/f'{fname}.en'\n",
    "fr_fname=PATH/f'{fname}.fr'"
   ]
  },
  {
   "cell_type": "code",
   "execution_count": 3,
   "metadata": {},
   "outputs": [],
   "source": [
    "re_eq = re.compile('^(Wh[^?.!]+\\?)')\n",
    "re_fq = re.compile('^([^?.!]+\\?)')\n",
    "lines = ((re_eq.search(eq), re_fq.search(fq))\n",
    "         for eq, fq in zip(open(en_fname, encoding='utf-8'), open(fr_fname, encoding='utf-8')))\n",
    "qs = [(e.group(), f.group()) for e, f in lines if e and f]"
   ]
  },
  {
   "cell_type": "code",
   "execution_count": 6,
   "metadata": {},
   "outputs": [],
   "source": [
    "pickle.dump(qs, (PATH/'fr-en-qs.pkl').open('wb'))"
   ]
  },
  {
   "cell_type": "code",
   "execution_count": 7,
   "metadata": {},
   "outputs": [],
   "source": [
    "qs = pickle.load((PATH/'fr-en-qs.pkl').open('rb'))"
   ]
  },
  {
   "cell_type": "code",
   "execution_count": 8,
   "metadata": {},
   "outputs": [
    {
     "data": {
      "text/plain": [
       "([('What is light ?', 'Qu’est-ce que la lumière?'),\n",
       "  ('Who are we?', 'Où sommes-nous?'),\n",
       "  ('Where did we come from?', \"D'où venons-nous?\"),\n",
       "  ('What would we do without it?', 'Que ferions-nous sans elle ?'),\n",
       "  ('What is the absolute location (latitude and longitude) of Badger, Newfoundland and Labrador?',\n",
       "   'Quelle sont les coordonnées (latitude et longitude) de Badger, à Terre-Neuve-etLabrador?')],\n",
       " 52331)"
      ]
     },
     "execution_count": 8,
     "metadata": {},
     "output_type": "execute_result"
    }
   ],
   "source": [
    "qs[:5], len(qs)"
   ]
  },
  {
   "cell_type": "code",
   "execution_count": 9,
   "metadata": {},
   "outputs": [],
   "source": [
    "en_qs, fr_qs = zip(*qs)"
   ]
  },
  {
   "cell_type": "markdown",
   "metadata": {},
   "source": [
    "### Load pretrained language models\n",
    "Here is where I introduce the ulmfit components of this task. I'll load the `en_qs` into the `wt103` tokenizer built by Jeremy Howard, and the `fr_qs` into the `french-wiki-lm` tokenizer that I built myself. First, I'll save both `en_qs` and `fr_qs` into different pandas dataframes, adding spurious label columns because these are language models we're fine-tuning."
   ]
  },
  {
   "cell_type": "code",
   "execution_count": 23,
   "metadata": {},
   "outputs": [],
   "source": [
    "en_qs_trn, en_qs_val = train_test_split(en_qs, test_size=0.1)\n",
    "en_df_trn = pd.DataFrame({'labels': [0]*len(en_qs_trn), 'text': en_qs_trn})\n",
    "en_df_val = pd.DataFrame({'labels': [0]*len(en_qs_val), 'text': en_qs_val})"
   ]
  },
  {
   "cell_type": "code",
   "execution_count": 14,
   "metadata": {},
   "outputs": [
    {
     "data": {
      "text/html": [
       "<div>\n",
       "<style scoped>\n",
       "    .dataframe tbody tr th:only-of-type {\n",
       "        vertical-align: middle;\n",
       "    }\n",
       "\n",
       "    .dataframe tbody tr th {\n",
       "        vertical-align: top;\n",
       "    }\n",
       "\n",
       "    .dataframe thead th {\n",
       "        text-align: right;\n",
       "    }\n",
       "</style>\n",
       "<table border=\"1\" class=\"dataframe\">\n",
       "  <thead>\n",
       "    <tr style=\"text-align: right;\">\n",
       "      <th></th>\n",
       "      <th>labels</th>\n",
       "      <th>text</th>\n",
       "    </tr>\n",
       "  </thead>\n",
       "  <tbody>\n",
       "    <tr>\n",
       "      <th>0</th>\n",
       "      <td>0</td>\n",
       "      <td>What is light ?</td>\n",
       "    </tr>\n",
       "    <tr>\n",
       "      <th>1</th>\n",
       "      <td>0</td>\n",
       "      <td>Who are we?</td>\n",
       "    </tr>\n",
       "    <tr>\n",
       "      <th>2</th>\n",
       "      <td>0</td>\n",
       "      <td>Where did we come from?</td>\n",
       "    </tr>\n",
       "    <tr>\n",
       "      <th>3</th>\n",
       "      <td>0</td>\n",
       "      <td>What would we do without it?</td>\n",
       "    </tr>\n",
       "    <tr>\n",
       "      <th>4</th>\n",
       "      <td>0</td>\n",
       "      <td>What is the absolute location (latitude and lo...</td>\n",
       "    </tr>\n",
       "    <tr>\n",
       "      <th>5</th>\n",
       "      <td>0</td>\n",
       "      <td>What is the major aboriginal group on Vancouve...</td>\n",
       "    </tr>\n",
       "    <tr>\n",
       "      <th>6</th>\n",
       "      <td>0</td>\n",
       "      <td>What are the advantages and disadvantages of u...</td>\n",
       "    </tr>\n",
       "    <tr>\n",
       "      <th>7</th>\n",
       "      <td>0</td>\n",
       "      <td>What types of land cover are associated with t...</td>\n",
       "    </tr>\n",
       "    <tr>\n",
       "      <th>8</th>\n",
       "      <td>0</td>\n",
       "      <td>What is the population of Canada?</td>\n",
       "    </tr>\n",
       "    <tr>\n",
       "      <th>9</th>\n",
       "      <td>0</td>\n",
       "      <td>Which province is the most populated?</td>\n",
       "    </tr>\n",
       "    <tr>\n",
       "      <th>10</th>\n",
       "      <td>0</td>\n",
       "      <td>Which province has the highest population dens...</td>\n",
       "    </tr>\n",
       "    <tr>\n",
       "      <th>11</th>\n",
       "      <td>0</td>\n",
       "      <td>Which province is the least populated?</td>\n",
       "    </tr>\n",
       "    <tr>\n",
       "      <th>12</th>\n",
       "      <td>0</td>\n",
       "      <td>Which territory is the least populated?</td>\n",
       "    </tr>\n",
       "    <tr>\n",
       "      <th>13</th>\n",
       "      <td>0</td>\n",
       "      <td>What is the population of Aboriginal people in...</td>\n",
       "    </tr>\n",
       "    <tr>\n",
       "      <th>14</th>\n",
       "      <td>0</td>\n",
       "      <td>What is the percentage of Canadians who speak ...</td>\n",
       "    </tr>\n",
       "    <tr>\n",
       "      <th>15</th>\n",
       "      <td>0</td>\n",
       "      <td>What is the percentage of Canadians who speak ...</td>\n",
       "    </tr>\n",
       "    <tr>\n",
       "      <th>16</th>\n",
       "      <td>0</td>\n",
       "      <td>What is the percentage of Canadians born in ot...</td>\n",
       "    </tr>\n",
       "    <tr>\n",
       "      <th>17</th>\n",
       "      <td>0</td>\n",
       "      <td>What percentage of the Canadian population is ...</td>\n",
       "    </tr>\n",
       "    <tr>\n",
       "      <th>18</th>\n",
       "      <td>0</td>\n",
       "      <td>What percentage of the Canadian population is ...</td>\n",
       "    </tr>\n",
       "    <tr>\n",
       "      <th>19</th>\n",
       "      <td>0</td>\n",
       "      <td>What is Canada's population density?</td>\n",
       "    </tr>\n",
       "    <tr>\n",
       "      <th>20</th>\n",
       "      <td>0</td>\n",
       "      <td>Why?</td>\n",
       "    </tr>\n",
       "    <tr>\n",
       "      <th>21</th>\n",
       "      <td>0</td>\n",
       "      <td>What is Canada's population density?</td>\n",
       "    </tr>\n",
       "    <tr>\n",
       "      <th>22</th>\n",
       "      <td>0</td>\n",
       "      <td>Why?</td>\n",
       "    </tr>\n",
       "    <tr>\n",
       "      <th>23</th>\n",
       "      <td>0</td>\n",
       "      <td>What services are provided free of charge?</td>\n",
       "    </tr>\n",
       "    <tr>\n",
       "      <th>24</th>\n",
       "      <td>0</td>\n",
       "      <td>Why is this of any relevance to potential Cana...</td>\n",
       "    </tr>\n",
       "    <tr>\n",
       "      <th>25</th>\n",
       "      <td>0</td>\n",
       "      <td>What to expect?</td>\n",
       "    </tr>\n",
       "    <tr>\n",
       "      <th>26</th>\n",
       "      <td>0</td>\n",
       "      <td>What needs to be done?</td>\n",
       "    </tr>\n",
       "    <tr>\n",
       "      <th>27</th>\n",
       "      <td>0</td>\n",
       "      <td>Which subsector contributed to the growth in t...</td>\n",
       "    </tr>\n",
       "    <tr>\n",
       "      <th>28</th>\n",
       "      <td>0</td>\n",
       "      <td>Why the influx of imported vegetables?</td>\n",
       "    </tr>\n",
       "    <tr>\n",
       "      <th>29</th>\n",
       "      <td>0</td>\n",
       "      <td>What is their current product portfolio?</td>\n",
       "    </tr>\n",
       "    <tr>\n",
       "      <th>...</th>\n",
       "      <td>...</td>\n",
       "      <td>...</td>\n",
       "    </tr>\n",
       "    <tr>\n",
       "      <th>52301</th>\n",
       "      <td>0</td>\n",
       "      <td>What is the advantage for the buyer of lending...</td>\n",
       "    </tr>\n",
       "    <tr>\n",
       "      <th>52302</th>\n",
       "      <td>0</td>\n",
       "      <td>What are the best ways to maintain a durable a...</td>\n",
       "    </tr>\n",
       "    <tr>\n",
       "      <th>52303</th>\n",
       "      <td>0</td>\n",
       "      <td>What Parks Canada assistance is required or ha...</td>\n",
       "    </tr>\n",
       "    <tr>\n",
       "      <th>52304</th>\n",
       "      <td>0</td>\n",
       "      <td>Who is on the roster of potential arbitrators?</td>\n",
       "    </tr>\n",
       "    <tr>\n",
       "      <th>52305</th>\n",
       "      <td>0</td>\n",
       "      <td>Who will be affected by the proposal?</td>\n",
       "    </tr>\n",
       "    <tr>\n",
       "      <th>52306</th>\n",
       "      <td>0</td>\n",
       "      <td>What economic effects is the proposal likely t...</td>\n",
       "    </tr>\n",
       "    <tr>\n",
       "      <th>52307</th>\n",
       "      <td>0</td>\n",
       "      <td>What, in your view, would be the impact of suc...</td>\n",
       "    </tr>\n",
       "    <tr>\n",
       "      <th>52308</th>\n",
       "      <td>0</td>\n",
       "      <td>When you are pregnant, the thoughts and feelin...</td>\n",
       "    </tr>\n",
       "    <tr>\n",
       "      <th>52309</th>\n",
       "      <td>0</td>\n",
       "      <td>What are the main challenges to data use?</td>\n",
       "    </tr>\n",
       "    <tr>\n",
       "      <th>52310</th>\n",
       "      <td>0</td>\n",
       "      <td>What role does civil society wish to play?</td>\n",
       "    </tr>\n",
       "    <tr>\n",
       "      <th>52311</th>\n",
       "      <td>0</td>\n",
       "      <td>What were the facts in the submission by whoms...</td>\n",
       "    </tr>\n",
       "    <tr>\n",
       "      <th>52312</th>\n",
       "      <td>0</td>\n",
       "      <td>What facts should be discussed and by whom the...</td>\n",
       "    </tr>\n",
       "    <tr>\n",
       "      <th>52313</th>\n",
       "      <td>0</td>\n",
       "      <td>What is EMIS?</td>\n",
       "    </tr>\n",
       "    <tr>\n",
       "      <th>52314</th>\n",
       "      <td>0</td>\n",
       "      <td>What is Pollution Prevention (P2)?</td>\n",
       "    </tr>\n",
       "    <tr>\n",
       "      <th>52315</th>\n",
       "      <td>0</td>\n",
       "      <td>What impact will shifts in international trade...</td>\n",
       "    </tr>\n",
       "    <tr>\n",
       "      <th>52316</th>\n",
       "      <td>0</td>\n",
       "      <td>What does it mean for the world and the Canadi...</td>\n",
       "    </tr>\n",
       "    <tr>\n",
       "      <th>52317</th>\n",
       "      <td>0</td>\n",
       "      <td>What are they doing to ride the waves of emerg...</td>\n",
       "    </tr>\n",
       "    <tr>\n",
       "      <th>52318</th>\n",
       "      <td>0</td>\n",
       "      <td>Where does all the fertilizer go?</td>\n",
       "    </tr>\n",
       "    <tr>\n",
       "      <th>52319</th>\n",
       "      <td>0</td>\n",
       "      <td>What happened to the Winter 2006 issue?</td>\n",
       "    </tr>\n",
       "    <tr>\n",
       "      <th>52320</th>\n",
       "      <td>0</td>\n",
       "      <td>What are the key future skills that are essent...</td>\n",
       "    </tr>\n",
       "    <tr>\n",
       "      <th>52321</th>\n",
       "      <td>0</td>\n",
       "      <td>What are the critical competencies that should...</td>\n",
       "    </tr>\n",
       "    <tr>\n",
       "      <th>52322</th>\n",
       "      <td>0</td>\n",
       "      <td>What should be protected?</td>\n",
       "    </tr>\n",
       "    <tr>\n",
       "      <th>52323</th>\n",
       "      <td>0</td>\n",
       "      <td>What about languages other than the national l...</td>\n",
       "    </tr>\n",
       "    <tr>\n",
       "      <th>52324</th>\n",
       "      <td>0</td>\n",
       "      <td>When a national or other language is taken int...</td>\n",
       "    </tr>\n",
       "    <tr>\n",
       "      <th>52325</th>\n",
       "      <td>0</td>\n",
       "      <td>What is the situation regarding practices at w...</td>\n",
       "    </tr>\n",
       "    <tr>\n",
       "      <th>52326</th>\n",
       "      <td>0</td>\n",
       "      <td>What are the mechanisms for increasing women's...</td>\n",
       "    </tr>\n",
       "    <tr>\n",
       "      <th>52327</th>\n",
       "      <td>0</td>\n",
       "      <td>Why is it still pushed aside, silenced, or the...</td>\n",
       "    </tr>\n",
       "    <tr>\n",
       "      <th>52328</th>\n",
       "      <td>0</td>\n",
       "      <td>Why should they not demote a judge who rules a...</td>\n",
       "    </tr>\n",
       "    <tr>\n",
       "      <th>52329</th>\n",
       "      <td>0</td>\n",
       "      <td>Why is it that we have achieved judicial indep...</td>\n",
       "    </tr>\n",
       "    <tr>\n",
       "      <th>52330</th>\n",
       "      <td>0</td>\n",
       "      <td>What's Inside Introduction to STI Did you know…?</td>\n",
       "    </tr>\n",
       "  </tbody>\n",
       "</table>\n",
       "<p>52331 rows × 2 columns</p>\n",
       "</div>"
      ],
      "text/plain": [
       "       labels                                               text\n",
       "0           0                                    What is light ?\n",
       "1           0                                        Who are we?\n",
       "2           0                            Where did we come from?\n",
       "3           0                       What would we do without it?\n",
       "4           0  What is the absolute location (latitude and lo...\n",
       "5           0  What is the major aboriginal group on Vancouve...\n",
       "6           0  What are the advantages and disadvantages of u...\n",
       "7           0  What types of land cover are associated with t...\n",
       "8           0                  What is the population of Canada?\n",
       "9           0              Which province is the most populated?\n",
       "10          0  Which province has the highest population dens...\n",
       "11          0             Which province is the least populated?\n",
       "12          0            Which territory is the least populated?\n",
       "13          0  What is the population of Aboriginal people in...\n",
       "14          0  What is the percentage of Canadians who speak ...\n",
       "15          0  What is the percentage of Canadians who speak ...\n",
       "16          0  What is the percentage of Canadians born in ot...\n",
       "17          0  What percentage of the Canadian population is ...\n",
       "18          0  What percentage of the Canadian population is ...\n",
       "19          0               What is Canada's population density?\n",
       "20          0                                               Why?\n",
       "21          0               What is Canada's population density?\n",
       "22          0                                               Why?\n",
       "23          0         What services are provided free of charge?\n",
       "24          0  Why is this of any relevance to potential Cana...\n",
       "25          0                                    What to expect?\n",
       "26          0                             What needs to be done?\n",
       "27          0  Which subsector contributed to the growth in t...\n",
       "28          0             Why the influx of imported vegetables?\n",
       "29          0           What is their current product portfolio?\n",
       "...       ...                                                ...\n",
       "52301       0  What is the advantage for the buyer of lending...\n",
       "52302       0  What are the best ways to maintain a durable a...\n",
       "52303       0  What Parks Canada assistance is required or ha...\n",
       "52304       0     Who is on the roster of potential arbitrators?\n",
       "52305       0              Who will be affected by the proposal?\n",
       "52306       0  What economic effects is the proposal likely t...\n",
       "52307       0  What, in your view, would be the impact of suc...\n",
       "52308       0  When you are pregnant, the thoughts and feelin...\n",
       "52309       0          What are the main challenges to data use?\n",
       "52310       0         What role does civil society wish to play?\n",
       "52311       0  What were the facts in the submission by whoms...\n",
       "52312       0  What facts should be discussed and by whom the...\n",
       "52313       0                                      What is EMIS?\n",
       "52314       0                 What is Pollution Prevention (P2)?\n",
       "52315       0  What impact will shifts in international trade...\n",
       "52316       0  What does it mean for the world and the Canadi...\n",
       "52317       0  What are they doing to ride the waves of emerg...\n",
       "52318       0                  Where does all the fertilizer go?\n",
       "52319       0            What happened to the Winter 2006 issue?\n",
       "52320       0  What are the key future skills that are essent...\n",
       "52321       0  What are the critical competencies that should...\n",
       "52322       0                          What should be protected?\n",
       "52323       0  What about languages other than the national l...\n",
       "52324       0  When a national or other language is taken int...\n",
       "52325       0  What is the situation regarding practices at w...\n",
       "52326       0  What are the mechanisms for increasing women's...\n",
       "52327       0  Why is it still pushed aside, silenced, or the...\n",
       "52328       0  Why should they not demote a judge who rules a...\n",
       "52329       0  Why is it that we have achieved judicial indep...\n",
       "52330       0   What's Inside Introduction to STI Did you know…?\n",
       "\n",
       "[52331 rows x 2 columns]"
      ]
     },
     "execution_count": 14,
     "metadata": {},
     "output_type": "execute_result"
    }
   ],
   "source": [
    "en_df"
   ]
  },
  {
   "cell_type": "code",
   "execution_count": 24,
   "metadata": {},
   "outputs": [],
   "source": [
    "en_df_trn.to_csv(PATH/'train_en_qs.csv', header=None, index=False)\n",
    "en_df_val.to_csv(PATH/'valid_en_qs.csv', header=None, index=False)"
   ]
  },
  {
   "cell_type": "code",
   "execution_count": 16,
   "metadata": {},
   "outputs": [],
   "source": [
    "fr_df = pd.DataFrame({'labels': [0]*len(fr_qs), 'text': fr_qs})"
   ]
  },
  {
   "cell_type": "code",
   "execution_count": 25,
   "metadata": {},
   "outputs": [],
   "source": [
    "fr_qs_trn, fr_qs_val = train_test_split(fr_qs, test_size=0.1)\n",
    "fr_df_trn = pd.DataFrame({'labels': [0]*len(fr_qs_trn), 'text': fr_qs_trn})\n",
    "fr_df_val = pd.DataFrame({'labels': [0]*len(fr_qs_val), 'text': fr_qs_val})"
   ]
  },
  {
   "cell_type": "code",
   "execution_count": 17,
   "metadata": {},
   "outputs": [
    {
     "data": {
      "text/html": [
       "<div>\n",
       "<style scoped>\n",
       "    .dataframe tbody tr th:only-of-type {\n",
       "        vertical-align: middle;\n",
       "    }\n",
       "\n",
       "    .dataframe tbody tr th {\n",
       "        vertical-align: top;\n",
       "    }\n",
       "\n",
       "    .dataframe thead th {\n",
       "        text-align: right;\n",
       "    }\n",
       "</style>\n",
       "<table border=\"1\" class=\"dataframe\">\n",
       "  <thead>\n",
       "    <tr style=\"text-align: right;\">\n",
       "      <th></th>\n",
       "      <th>labels</th>\n",
       "      <th>text</th>\n",
       "    </tr>\n",
       "  </thead>\n",
       "  <tbody>\n",
       "    <tr>\n",
       "      <th>0</th>\n",
       "      <td>0</td>\n",
       "      <td>Qu’est-ce que la lumière?</td>\n",
       "    </tr>\n",
       "    <tr>\n",
       "      <th>1</th>\n",
       "      <td>0</td>\n",
       "      <td>Où sommes-nous?</td>\n",
       "    </tr>\n",
       "    <tr>\n",
       "      <th>2</th>\n",
       "      <td>0</td>\n",
       "      <td>D'où venons-nous?</td>\n",
       "    </tr>\n",
       "    <tr>\n",
       "      <th>3</th>\n",
       "      <td>0</td>\n",
       "      <td>Que ferions-nous sans elle ?</td>\n",
       "    </tr>\n",
       "    <tr>\n",
       "      <th>4</th>\n",
       "      <td>0</td>\n",
       "      <td>Quelle sont les coordonnées (latitude et longi...</td>\n",
       "    </tr>\n",
       "    <tr>\n",
       "      <th>5</th>\n",
       "      <td>0</td>\n",
       "      <td>Quel est le groupe autochtone principal sur l’...</td>\n",
       "    </tr>\n",
       "    <tr>\n",
       "      <th>6</th>\n",
       "      <td>0</td>\n",
       "      <td>Quels sont les avantages et les désavantages d...</td>\n",
       "    </tr>\n",
       "    <tr>\n",
       "      <th>7</th>\n",
       "      <td>0</td>\n",
       "      <td>À quel type de couverture des terres associez-...</td>\n",
       "    </tr>\n",
       "    <tr>\n",
       "      <th>8</th>\n",
       "      <td>0</td>\n",
       "      <td>Quelle est la population du Canada ?</td>\n",
       "    </tr>\n",
       "    <tr>\n",
       "      <th>9</th>\n",
       "      <td>0</td>\n",
       "      <td>Quelle est la province la plus peuplée ?</td>\n",
       "    </tr>\n",
       "    <tr>\n",
       "      <th>10</th>\n",
       "      <td>0</td>\n",
       "      <td>Quelle est la province ayant la plus forte den...</td>\n",
       "    </tr>\n",
       "    <tr>\n",
       "      <th>11</th>\n",
       "      <td>0</td>\n",
       "      <td>Quelle est la province la moins peuplée ?</td>\n",
       "    </tr>\n",
       "    <tr>\n",
       "      <th>12</th>\n",
       "      <td>0</td>\n",
       "      <td>Quelle est le territoire le moins peuplé ?</td>\n",
       "    </tr>\n",
       "    <tr>\n",
       "      <th>13</th>\n",
       "      <td>0</td>\n",
       "      <td>Quelle est la population autochtone au Canada ?</td>\n",
       "    </tr>\n",
       "    <tr>\n",
       "      <th>14</th>\n",
       "      <td>0</td>\n",
       "      <td>Quel est le pourcentage de Canadiens ayant l’a...</td>\n",
       "    </tr>\n",
       "    <tr>\n",
       "      <th>15</th>\n",
       "      <td>0</td>\n",
       "      <td>Quel est le pourcentage de Canadiens ayant le ...</td>\n",
       "    </tr>\n",
       "    <tr>\n",
       "      <th>16</th>\n",
       "      <td>0</td>\n",
       "      <td>Quel est le pourcentage de Canadiens nés à l’é...</td>\n",
       "    </tr>\n",
       "    <tr>\n",
       "      <th>17</th>\n",
       "      <td>0</td>\n",
       "      <td>Quel est le pourcentage de femmes au sein de l...</td>\n",
       "    </tr>\n",
       "    <tr>\n",
       "      <th>18</th>\n",
       "      <td>0</td>\n",
       "      <td>Quel est le pourcentage d’hommes au sein de la...</td>\n",
       "    </tr>\n",
       "    <tr>\n",
       "      <th>19</th>\n",
       "      <td>0</td>\n",
       "      <td>Quelle est la densité de la population canadie...</td>\n",
       "    </tr>\n",
       "    <tr>\n",
       "      <th>20</th>\n",
       "      <td>0</td>\n",
       "      <td>Pourquoi ?</td>\n",
       "    </tr>\n",
       "    <tr>\n",
       "      <th>21</th>\n",
       "      <td>0</td>\n",
       "      <td>Quelle est la densité de population au Canada ?</td>\n",
       "    </tr>\n",
       "    <tr>\n",
       "      <th>22</th>\n",
       "      <td>0</td>\n",
       "      <td>Pourquoi?</td>\n",
       "    </tr>\n",
       "    <tr>\n",
       "      <th>23</th>\n",
       "      <td>0</td>\n",
       "      <td>Quels services fournit-il gratuitement?</td>\n",
       "    </tr>\n",
       "    <tr>\n",
       "      <th>24</th>\n",
       "      <td>0</td>\n",
       "      <td>Pourquoi cela intéresse-t-il les exportateurs ...</td>\n",
       "    </tr>\n",
       "    <tr>\n",
       "      <th>25</th>\n",
       "      <td>0</td>\n",
       "      <td>À quoi faut-il s'attendre?</td>\n",
       "    </tr>\n",
       "    <tr>\n",
       "      <th>26</th>\n",
       "      <td>0</td>\n",
       "      <td>Que faut-il faire?</td>\n",
       "    </tr>\n",
       "    <tr>\n",
       "      <th>27</th>\n",
       "      <td>0</td>\n",
       "      <td>Quels sous-secteurs y ont le plus contribué da...</td>\n",
       "    </tr>\n",
       "    <tr>\n",
       "      <th>28</th>\n",
       "      <td>0</td>\n",
       "      <td>Qu'est-ce qui explique l'afflux de légumes imp...</td>\n",
       "    </tr>\n",
       "    <tr>\n",
       "      <th>29</th>\n",
       "      <td>0</td>\n",
       "      <td>Quel est leur portefeuille actuel de produits?</td>\n",
       "    </tr>\n",
       "    <tr>\n",
       "      <th>...</th>\n",
       "      <td>...</td>\n",
       "      <td>...</td>\n",
       "    </tr>\n",
       "    <tr>\n",
       "      <th>52301</th>\n",
       "      <td>0</td>\n",
       "      <td>Quel en est l'intérêt pour l'acheteur de prête...</td>\n",
       "    </tr>\n",
       "    <tr>\n",
       "      <th>52302</th>\n",
       "      <td>0</td>\n",
       "      <td>Quels sont les meilleurs moyens pour assurer u...</td>\n",
       "    </tr>\n",
       "    <tr>\n",
       "      <th>52303</th>\n",
       "      <td>0</td>\n",
       "      <td>Quelle aide attendez-vous ou avez-vous obtenu ...</td>\n",
       "    </tr>\n",
       "    <tr>\n",
       "      <th>52304</th>\n",
       "      <td>0</td>\n",
       "      <td>Qui est inscrit sur la liste des arbitres Ã©ve...</td>\n",
       "    </tr>\n",
       "    <tr>\n",
       "      <th>52305</th>\n",
       "      <td>0</td>\n",
       "      <td>Qui sera touché par la proposition?</td>\n",
       "    </tr>\n",
       "    <tr>\n",
       "      <th>52306</th>\n",
       "      <td>0</td>\n",
       "      <td>Quels effets économiques la proposition est-el...</td>\n",
       "    </tr>\n",
       "    <tr>\n",
       "      <th>52307</th>\n",
       "      <td>0</td>\n",
       "      <td>Quelle serait, selon vous, l'incidence de ces ...</td>\n",
       "    </tr>\n",
       "    <tr>\n",
       "      <th>52308</th>\n",
       "      <td>0</td>\n",
       "      <td>La santé émotionnelle SANTÉ ÉMOTIONNELLE Lorsq...</td>\n",
       "    </tr>\n",
       "    <tr>\n",
       "      <th>52309</th>\n",
       "      <td>0</td>\n",
       "      <td>Quels sont les principaux obstacles à l’utilis...</td>\n",
       "    </tr>\n",
       "    <tr>\n",
       "      <th>52310</th>\n",
       "      <td>0</td>\n",
       "      <td>«Communiquer l’Europe: quel rôle la société ci...</td>\n",
       "    </tr>\n",
       "    <tr>\n",
       "      <th>52311</th>\n",
       "      <td>0</td>\n",
       "      <td>Quels sont les faits qui ont été exposés?</td>\n",
       "    </tr>\n",
       "    <tr>\n",
       "      <th>52312</th>\n",
       "      <td>0</td>\n",
       "      <td>Quels faits devaient être examinés et qui les ...</td>\n",
       "    </tr>\n",
       "    <tr>\n",
       "      <th>52313</th>\n",
       "      <td>0</td>\n",
       "      <td>Qu’est-ce que le SIGD?</td>\n",
       "    </tr>\n",
       "    <tr>\n",
       "      <th>52314</th>\n",
       "      <td>0</td>\n",
       "      <td>Quâ€™est-ce que la prÃ©vention de la pollution...</td>\n",
       "    </tr>\n",
       "    <tr>\n",
       "      <th>52315</th>\n",
       "      <td>0</td>\n",
       "      <td>Quel impact aura l’évolution du commerce inter...</td>\n",
       "    </tr>\n",
       "    <tr>\n",
       "      <th>52316</th>\n",
       "      <td>0</td>\n",
       "      <td>Qu’est-ce que cela signifie pour l’industrie a...</td>\n",
       "    </tr>\n",
       "    <tr>\n",
       "      <th>52317</th>\n",
       "      <td>0</td>\n",
       "      <td>• Et si vous parliez à vos clients afin de déc...</td>\n",
       "    </tr>\n",
       "    <tr>\n",
       "      <th>52318</th>\n",
       "      <td>0</td>\n",
       "      <td>Disponible en anglais seulement Où va tout l’e...</td>\n",
       "    </tr>\n",
       "    <tr>\n",
       "      <th>52319</th>\n",
       "      <td>0</td>\n",
       "      <td>Qu’est-il advenu du numéro de l’hiver 2006?</td>\n",
       "    </tr>\n",
       "    <tr>\n",
       "      <th>52320</th>\n",
       "      <td>0</td>\n",
       "      <td>Dans ce nouveau contexte, comment la politique...</td>\n",
       "    </tr>\n",
       "    <tr>\n",
       "      <th>52321</th>\n",
       "      <td>0</td>\n",
       "      <td>Comment la politique de cohésion pourrait-elle...</td>\n",
       "    </tr>\n",
       "    <tr>\n",
       "      <th>52322</th>\n",
       "      <td>0</td>\n",
       "      <td>Ces questions peuvent se résumer ainsi : que f...</td>\n",
       "    </tr>\n",
       "    <tr>\n",
       "      <th>52323</th>\n",
       "      <td>0</td>\n",
       "      <td>Qu'en est-il des langues autres que la langue ...</td>\n",
       "    </tr>\n",
       "    <tr>\n",
       "      <th>52324</th>\n",
       "      <td>0</td>\n",
       "      <td>Lorsqu'une langue (nationale ou autre) est pri...</td>\n",
       "    </tr>\n",
       "    <tr>\n",
       "      <th>52325</th>\n",
       "      <td>0</td>\n",
       "      <td>Qu'en est-il des pratiques au travail, notamme...</td>\n",
       "    </tr>\n",
       "    <tr>\n",
       "      <th>52326</th>\n",
       "      <td>0</td>\n",
       "      <td>Quels sont les mécanismes susceptibles d’améli...</td>\n",
       "    </tr>\n",
       "    <tr>\n",
       "      <th>52327</th>\n",
       "      <td>0</td>\n",
       "      <td>Pourquoi, aujourd'hui encore, écarte-t-on cett...</td>\n",
       "    </tr>\n",
       "    <tr>\n",
       "      <th>52328</th>\n",
       "      <td>0</td>\n",
       "      <td>Pourquoi ne devraient-ils pas destituer un jug...</td>\n",
       "    </tr>\n",
       "    <tr>\n",
       "      <th>52329</th>\n",
       "      <td>0</td>\n",
       "      <td>Pourquoi avons-nous réussi à atteindre l'indép...</td>\n",
       "    </tr>\n",
       "    <tr>\n",
       "      <th>52330</th>\n",
       "      <td>0</td>\n",
       "      <td>Contenu Introduction aux ITS Saviez-vous que…?</td>\n",
       "    </tr>\n",
       "  </tbody>\n",
       "</table>\n",
       "<p>52331 rows × 2 columns</p>\n",
       "</div>"
      ],
      "text/plain": [
       "       labels                                               text\n",
       "0           0                          Qu’est-ce que la lumière?\n",
       "1           0                                    Où sommes-nous?\n",
       "2           0                                  D'où venons-nous?\n",
       "3           0                       Que ferions-nous sans elle ?\n",
       "4           0  Quelle sont les coordonnées (latitude et longi...\n",
       "5           0  Quel est le groupe autochtone principal sur l’...\n",
       "6           0  Quels sont les avantages et les désavantages d...\n",
       "7           0  À quel type de couverture des terres associez-...\n",
       "8           0               Quelle est la population du Canada ?\n",
       "9           0           Quelle est la province la plus peuplée ?\n",
       "10          0  Quelle est la province ayant la plus forte den...\n",
       "11          0          Quelle est la province la moins peuplée ?\n",
       "12          0         Quelle est le territoire le moins peuplé ?\n",
       "13          0    Quelle est la population autochtone au Canada ?\n",
       "14          0  Quel est le pourcentage de Canadiens ayant l’a...\n",
       "15          0  Quel est le pourcentage de Canadiens ayant le ...\n",
       "16          0  Quel est le pourcentage de Canadiens nés à l’é...\n",
       "17          0  Quel est le pourcentage de femmes au sein de l...\n",
       "18          0  Quel est le pourcentage d’hommes au sein de la...\n",
       "19          0  Quelle est la densité de la population canadie...\n",
       "20          0                                         Pourquoi ?\n",
       "21          0    Quelle est la densité de population au Canada ?\n",
       "22          0                                          Pourquoi?\n",
       "23          0            Quels services fournit-il gratuitement?\n",
       "24          0  Pourquoi cela intéresse-t-il les exportateurs ...\n",
       "25          0                         À quoi faut-il s'attendre?\n",
       "26          0                                 Que faut-il faire?\n",
       "27          0  Quels sous-secteurs y ont le plus contribué da...\n",
       "28          0  Qu'est-ce qui explique l'afflux de légumes imp...\n",
       "29          0     Quel est leur portefeuille actuel de produits?\n",
       "...       ...                                                ...\n",
       "52301       0  Quel en est l'intérêt pour l'acheteur de prête...\n",
       "52302       0  Quels sont les meilleurs moyens pour assurer u...\n",
       "52303       0  Quelle aide attendez-vous ou avez-vous obtenu ...\n",
       "52304       0  Qui est inscrit sur la liste des arbitres Ã©ve...\n",
       "52305       0                Qui sera touché par la proposition?\n",
       "52306       0  Quels effets économiques la proposition est-el...\n",
       "52307       0  Quelle serait, selon vous, l'incidence de ces ...\n",
       "52308       0  La santé émotionnelle SANTÉ ÉMOTIONNELLE Lorsq...\n",
       "52309       0  Quels sont les principaux obstacles à l’utilis...\n",
       "52310       0  «Communiquer l’Europe: quel rôle la société ci...\n",
       "52311       0          Quels sont les faits qui ont été exposés?\n",
       "52312       0  Quels faits devaient être examinés et qui les ...\n",
       "52313       0                             Qu’est-ce que le SIGD?\n",
       "52314       0  Quâ€™est-ce que la prÃ©vention de la pollution...\n",
       "52315       0  Quel impact aura l’évolution du commerce inter...\n",
       "52316       0  Qu’est-ce que cela signifie pour l’industrie a...\n",
       "52317       0  • Et si vous parliez à vos clients afin de déc...\n",
       "52318       0  Disponible en anglais seulement Où va tout l’e...\n",
       "52319       0        Qu’est-il advenu du numéro de l’hiver 2006?\n",
       "52320       0  Dans ce nouveau contexte, comment la politique...\n",
       "52321       0  Comment la politique de cohésion pourrait-elle...\n",
       "52322       0  Ces questions peuvent se résumer ainsi : que f...\n",
       "52323       0  Qu'en est-il des langues autres que la langue ...\n",
       "52324       0  Lorsqu'une langue (nationale ou autre) est pri...\n",
       "52325       0  Qu'en est-il des pratiques au travail, notamme...\n",
       "52326       0  Quels sont les mécanismes susceptibles d’améli...\n",
       "52327       0  Pourquoi, aujourd'hui encore, écarte-t-on cett...\n",
       "52328       0  Pourquoi ne devraient-ils pas destituer un jug...\n",
       "52329       0  Pourquoi avons-nous réussi à atteindre l'indép...\n",
       "52330       0     Contenu Introduction aux ITS Saviez-vous que…?\n",
       "\n",
       "[52331 rows x 2 columns]"
      ]
     },
     "execution_count": 17,
     "metadata": {},
     "output_type": "execute_result"
    }
   ],
   "source": [
    "fr_df"
   ]
  },
  {
   "cell_type": "code",
   "execution_count": 26,
   "metadata": {},
   "outputs": [],
   "source": [
    "fr_df_trn.to_csv(PATH/'train_fr_qs.csv', header=None, index=False)\n",
    "fr_df_val.to_csv(PATH/'valid_fr_qs.csv', header=None, index=False)"
   ]
  },
  {
   "cell_type": "code",
   "execution_count": 3,
   "metadata": {},
   "outputs": [
    {
     "name": "stdout",
     "output_type": "stream",
     "text": [
      "Tokenizing train_en_qs.\n"
     ]
    },
    {
     "data": {
      "application/vnd.jupyter.widget-view+json": {
       "model_id": "",
       "version_major": 2,
       "version_minor": 0
      },
      "text/plain": [
       "HBox(children=(IntProgress(value=0, max=5), HTML(value='')))"
      ]
     },
     "metadata": {},
     "output_type": "display_data"
    },
    {
     "data": {
      "application/vnd.jupyter.widget-view+json": {
       "model_id": "",
       "version_major": 2,
       "version_minor": 0
      },
      "text/plain": [
       "HBox(children=(IntProgress(value=0, max=5), HTML(value='0.00% [0/5 00:00<00:00]')))"
      ]
     },
     "metadata": {},
     "output_type": "display_data"
    },
    {
     "name": "stdout",
     "output_type": "stream",
     "text": [
      "Numericalizing train_en_qs.\n",
      "Numericalizing valid_en_qs.\n"
     ]
    }
   ],
   "source": [
    "en_lm_data = text_data_from_csv(PATH, train='train_en_qs', valid='valid_en_qs', data_func=lm_data)"
   ]
  },
  {
   "cell_type": "code",
   "execution_count": 11,
   "metadata": {},
   "outputs": [
    {
     "name": "stdout",
     "output_type": "stream",
     "text": [
      "Tokenizing train_fr_qs.\n"
     ]
    },
    {
     "data": {
      "application/vnd.jupyter.widget-view+json": {
       "model_id": "",
       "version_major": 2,
       "version_minor": 0
      },
      "text/plain": [
       "HBox(children=(IntProgress(value=0, max=5), HTML(value='')))"
      ]
     },
     "metadata": {},
     "output_type": "display_data"
    },
    {
     "data": {
      "application/vnd.jupyter.widget-view+json": {
       "model_id": "",
       "version_major": 2,
       "version_minor": 0
      },
      "text/plain": [
       "HBox(children=(IntProgress(value=0, max=5), HTML(value='0.00% [0/5 00:00<00:00]')))"
      ]
     },
     "metadata": {},
     "output_type": "display_data"
    },
    {
     "name": "stdout",
     "output_type": "stream",
     "text": [
      "Numericalizing train_fr_qs.\n",
      "Tokenizing valid_fr_qs.\n"
     ]
    },
    {
     "data": {
      "application/vnd.jupyter.widget-view+json": {
       "model_id": "",
       "version_major": 2,
       "version_minor": 0
      },
      "text/plain": [
       "HBox(children=(IntProgress(value=0, max=1), HTML(value='')))"
      ]
     },
     "metadata": {},
     "output_type": "display_data"
    },
    {
     "data": {
      "application/vnd.jupyter.widget-view+json": {
       "model_id": "",
       "version_major": 2,
       "version_minor": 0
      },
      "text/plain": [
       "HBox(children=(IntProgress(value=0, max=1), HTML(value='0.00% [0/1 00:00<00:00]')))"
      ]
     },
     "metadata": {},
     "output_type": "display_data"
    },
    {
     "name": "stdout",
     "output_type": "stream",
     "text": [
      "Numericalizing valid_fr_qs.\n"
     ]
    }
   ],
   "source": [
    "fr_lm_data = text_data_from_csv(PATH, tokenizer=Tokenizer(lang='fr'), train='train_fr_qs', valid='valid_fr_qs', data_func=lm_data)"
   ]
  },
  {
   "cell_type": "code",
   "execution_count": 35,
   "metadata": {},
   "outputs": [
    {
     "data": {
      "application/vnd.jupyter.widget-view+json": {
       "model_id": "cc15cb7248e74b238af5d3219be81100",
       "version_major": 2,
       "version_minor": 0
      },
      "text/plain": [
       "HBox(children=(IntProgress(value=0, max=221972701), HTML(value='')))"
      ]
     },
     "metadata": {},
     "output_type": "display_data"
    },
    {
     "data": {
      "application/vnd.jupyter.widget-view+json": {
       "model_id": "76e52132a4f54295bd2acd97a57dad67",
       "version_major": 2,
       "version_minor": 0
      },
      "text/plain": [
       "HBox(children=(IntProgress(value=0, max=1027972), HTML(value='')))"
      ]
     },
     "metadata": {},
     "output_type": "display_data"
    }
   ],
   "source": [
    "download_wt103_model()"
   ]
  },
  {
   "cell_type": "code",
   "execution_count": 38,
   "metadata": {},
   "outputs": [],
   "source": [
    "??download_wt103_model"
   ]
  },
  {
   "cell_type": "code",
   "execution_count": 42,
   "metadata": {},
   "outputs": [],
   "source": [
    "from fastai.docs import IMDB_PATH"
   ]
  },
  {
   "cell_type": "code",
   "execution_count": 43,
   "metadata": {},
   "outputs": [
    {
     "data": {
      "text/plain": [
       "PosixPath('../data/imdb_sample')"
      ]
     },
     "execution_count": 43,
     "metadata": {},
     "output_type": "execute_result"
    }
   ],
   "source": [
    "IMDB_PATH"
   ]
  },
  {
   "cell_type": "code",
   "execution_count": 44,
   "metadata": {
    "scrolled": true
   },
   "outputs": [
    {
     "name": "stdout",
     "output_type": "stream",
     "text": [
      "\u001b[0m\u001b[01;34mmodels\u001b[0m/\r\n"
     ]
    }
   ],
   "source": [
    "ls {IMDB_PATH}"
   ]
  },
  {
   "cell_type": "code",
   "execution_count": 45,
   "metadata": {},
   "outputs": [
    {
     "name": "stdout",
     "output_type": "stream",
     "text": [
      "/data2/translate\r\n"
     ]
    }
   ],
   "source": [
    "!pwd"
   ]
  },
  {
   "cell_type": "code",
   "execution_count": 5,
   "metadata": {},
   "outputs": [],
   "source": [
    "en_learn = RNNLearner.language_model(en_lm_data, \n",
    "                                     pretrained_fnames=['lstm_wt103', 'itos_wt103'],\n",
    "                                     drop_mult=0.5)"
   ]
  },
  {
   "cell_type": "code",
   "execution_count": 12,
   "metadata": {},
   "outputs": [],
   "source": [
    "fr_learn = RNNLearner.language_model(fr_lm_data, \n",
    "                                     pretrained_fnames=['lstm_frwiki3', 'itos_frwiki3'],\n",
    "                                     drop_mult=0.5)"
   ]
  },
  {
   "cell_type": "code",
   "execution_count": 22,
   "metadata": {},
   "outputs": [
    {
     "data": {
      "application/vnd.jupyter.widget-view+json": {
       "model_id": "",
       "version_major": 2,
       "version_minor": 0
      },
      "text/plain": [
       "VBox(children=(HBox(children=(IntProgress(value=0, max=1), HTML(value='0.00% [0/1 00:00<00:00]'))), HTML(value…"
      ]
     },
     "metadata": {},
     "output_type": "display_data"
    },
    {
     "name": "stdout",
     "output_type": "stream",
     "text": [
      "Total time: 01:05\n",
      "epoch  train loss  valid loss  accuracy\n",
      "0      3.431419    3.104358    0.468302  (01:05)\n",
      "\n"
     ]
    }
   ],
   "source": [
    "en_learn.fit_one_cycle(1, 1e-2)"
   ]
  },
  {
   "cell_type": "code",
   "execution_count": 23,
   "metadata": {},
   "outputs": [
    {
     "data": {
      "application/vnd.jupyter.widget-view+json": {
       "model_id": "",
       "version_major": 2,
       "version_minor": 0
      },
      "text/plain": [
       "VBox(children=(HBox(children=(IntProgress(value=0, max=5), HTML(value='0.00% [0/5 00:00<00:00]'))), HTML(value…"
      ]
     },
     "metadata": {},
     "output_type": "display_data"
    },
    {
     "name": "stdout",
     "output_type": "stream",
     "text": [
      "Total time: 06:59\n",
      "epoch  train loss  valid loss  accuracy\n",
      "0      3.115539    2.939070    0.482752  (01:22)\n",
      "1      2.979595    2.843096    0.493146  (01:24)\n",
      "2      2.849743    2.779877    0.499743  (01:23)\n",
      "3      2.777236    2.748542    0.503909  (01:24)\n",
      "4      2.740930    2.747390    0.503783  (01:24)\n",
      "\n"
     ]
    }
   ],
   "source": [
    "en_learn.unfreeze()\n",
    "en_learn.fit_one_cycle(5, 1e-3)"
   ]
  },
  {
   "cell_type": "code",
   "execution_count": 24,
   "metadata": {},
   "outputs": [
    {
     "data": {
      "application/vnd.jupyter.widget-view+json": {
       "model_id": "",
       "version_major": 2,
       "version_minor": 0
      },
      "text/plain": [
       "VBox(children=(HBox(children=(IntProgress(value=0, max=5), HTML(value='0.00% [0/5 00:00<00:00]'))), HTML(value…"
      ]
     },
     "metadata": {},
     "output_type": "display_data"
    },
    {
     "name": "stdout",
     "output_type": "stream",
     "text": [
      "Total time: 06:59\n",
      "epoch  train loss  valid loss  accuracy\n",
      "0      2.740145    2.740065    0.504685  (01:23)\n",
      "1      2.687399    2.710938    0.508004  (01:22)\n",
      "2      2.602028    2.687391    0.511009  (01:23)\n",
      "3      2.567474    2.667275    0.514133  (01:25)\n",
      "4      2.507713    2.671771    0.513954  (01:23)\n",
      "\n"
     ]
    }
   ],
   "source": [
    "en_learn.fit_one_cycle(5, 1e-3)"
   ]
  },
  {
   "cell_type": "code",
   "execution_count": 51,
   "metadata": {},
   "outputs": [],
   "source": [
    "en_learn.save_encoder('en_qs_ft_enc')"
   ]
  },
  {
   "cell_type": "code",
   "execution_count": 13,
   "metadata": {},
   "outputs": [
    {
     "data": {
      "application/vnd.jupyter.widget-view+json": {
       "model_id": "",
       "version_major": 2,
       "version_minor": 0
      },
      "text/plain": [
       "VBox(children=(HBox(children=(IntProgress(value=0, max=1), HTML(value='0.00% [0/1 00:00<00:00]'))), HTML(value…"
      ]
     },
     "metadata": {},
     "output_type": "display_data"
    },
    {
     "name": "stdout",
     "output_type": "stream",
     "text": [
      "Total time: 01:19\n",
      "epoch  train loss  valid loss  accuracy\n",
      "0      2.974157    2.755210    0.453115  (01:19)\n",
      "\n"
     ]
    }
   ],
   "source": [
    "fr_learn.fit_one_cycle(1, 1e-2)"
   ]
  },
  {
   "cell_type": "code",
   "execution_count": 14,
   "metadata": {},
   "outputs": [
    {
     "data": {
      "application/vnd.jupyter.widget-view+json": {
       "model_id": "",
       "version_major": 2,
       "version_minor": 0
      },
      "text/plain": [
       "VBox(children=(HBox(children=(IntProgress(value=0, max=5), HTML(value='0.00% [0/5 00:00<00:00]'))), HTML(value…"
      ]
     },
     "metadata": {},
     "output_type": "display_data"
    },
    {
     "name": "stdout",
     "output_type": "stream",
     "text": [
      "Total time: 08:27\n",
      "epoch  train loss  valid loss  accuracy\n",
      "0      2.731422    2.640202    0.468633  (01:40)\n",
      "1      2.587715    2.550787    0.480116  (01:42)\n",
      "2      2.422324    2.497441    0.486201  (01:42)\n",
      "3      2.300161    2.463465    0.491608  (01:41)\n",
      "4      2.237393    2.467408    0.492350  (01:40)\n",
      "\n"
     ]
    }
   ],
   "source": [
    "fr_learn.unfreeze()\n",
    "fr_learn.fit_one_cycle(5, 1e-3)"
   ]
  },
  {
   "cell_type": "code",
   "execution_count": 15,
   "metadata": {},
   "outputs": [],
   "source": [
    "fr_learn.save('fr_qs_ft1')"
   ]
  },
  {
   "cell_type": "code",
   "execution_count": 17,
   "metadata": {},
   "outputs": [],
   "source": [
    "fr_learn.save_encoder('fr_qs_ft1_enc')"
   ]
  },
  {
   "cell_type": "code",
   "execution_count": 18,
   "metadata": {},
   "outputs": [
    {
     "data": {
      "image/png": "[encoded data removed]",
      "text/plain": [
       "<Figure size 432x288 with 1 Axes>"
      ]
     },
     "metadata": {
      "needs_background": "light"
     },
     "output_type": "display_data"
    }
   ],
   "source": [
    "fr_learn.recorder.plot_metrics()"
   ]
  },
  {
   "cell_type": "code",
   "execution_count": 19,
   "metadata": {},
   "outputs": [
    {
     "data": {
      "image/png": "[encoded data removed]",
      "text/plain": [
       "<Figure size 432x288 with 1 Axes>"
      ]
     },
     "metadata": {
      "needs_background": "light"
     },
     "output_type": "display_data"
    }
   ],
   "source": [
    "fr_learn.recorder.plot_losses()"
   ]
  },
  {
   "cell_type": "code",
   "execution_count": 28,
   "metadata": {},
   "outputs": [
    {
     "data": {
      "image/png": "[encoded data removed]",
      "text/plain": [
       "<Figure size 432x288 with 1 Axes>"
      ]
     },
     "metadata": {
      "needs_background": "light"
     },
     "output_type": "display_data"
    }
   ],
   "source": [
    "fr_learn.recorder.plot_lr()"
   ]
  },
  {
   "cell_type": "code",
   "execution_count": 25,
   "metadata": {},
   "outputs": [
    {
     "data": {
      "image/png": "[encoded data removed]",
      "text/plain": [
       "<Figure size 432x288 with 1 Axes>"
      ]
     },
     "metadata": {
      "needs_background": "light"
     },
     "output_type": "display_data"
    }
   ],
   "source": [
    "en_learn.recorder.plot_losses()"
   ]
  },
  {
   "cell_type": "code",
   "execution_count": 26,
   "metadata": {},
   "outputs": [
    {
     "data": {
      "image/png": "[encoded data removed]",
      "text/plain": [
       "<Figure size 432x288 with 1 Axes>"
      ]
     },
     "metadata": {
      "needs_background": "light"
     },
     "output_type": "display_data"
    }
   ],
   "source": [
    "en_learn.recorder.plot_metrics()"
   ]
  },
  {
   "cell_type": "code",
   "execution_count": 27,
   "metadata": {},
   "outputs": [
    {
     "data": {
      "image/png": "[encoded data removed]",
      "text/plain": [
       "<Figure size 432x288 with 1 Axes>"
      ]
     },
     "metadata": {
      "needs_background": "light"
     },
     "output_type": "display_data"
    }
   ],
   "source": [
    "en_learn.recorder.plot_lr()"
   ]
  },
  {
   "cell_type": "code",
   "execution_count": 52,
   "metadata": {},
   "outputs": [],
   "source": [
    "import numpy as np\n",
    "frlen_98 = int(np.percentile([len(o) for o in fr_learn.data.train_dl.dl.dataset.ids], 98))"
   ]
  },
  {
   "cell_type": "code",
   "execution_count": 53,
   "metadata": {},
   "outputs": [],
   "source": [
    "enlen_99 = int(np.percentile([len(o) for o in en_learn.data.train_dl.dl.dataset.ids], 99))"
   ]
  },
  {
   "cell_type": "code",
   "execution_count": 54,
   "metadata": {},
   "outputs": [
    {
     "data": {
      "text/plain": [
       "(47, 45)"
      ]
     },
     "execution_count": 54,
     "metadata": {},
     "output_type": "execute_result"
    }
   ],
   "source": [
    "frlen_98, enlen_99"
   ]
  },
  {
   "cell_type": "code",
   "execution_count": 55,
   "metadata": {},
   "outputs": [],
   "source": [
    "en_learn.save('en_qs_ft1')"
   ]
  },
  {
   "cell_type": "code",
   "execution_count": 56,
   "metadata": {},
   "outputs": [],
   "source": [
    "en_learn.save_encoder('en_qs_ft1_enc')"
   ]
  },
  {
   "cell_type": "code",
   "execution_count": null,
   "metadata": {},
   "outputs": [],
   "source": []
  }
 ],
 "metadata": {
  "kernelspec": {
   "display_name": "Python 3",
   "language": "python",
   "name": "python3"
  },
  "language_info": {
   "codemirror_mode": {
    "name": "ipython",
    "version": 3
   },
   "file_extension": ".py",
   "mimetype": "text/x-python",
   "name": "python",
   "nbconvert_exporter": "python",
   "pygments_lexer": "ipython3",
   "version": "3.7.0"
  }
 },
 "nbformat": 4,
 "nbformat_minor": 2
}
