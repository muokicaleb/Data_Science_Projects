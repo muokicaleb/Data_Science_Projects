{
 "cells": [
  {
   "cell_type": "code",
   "execution_count": 2,
   "metadata": {},
   "outputs": [
    {
     "name": "stdout",
     "output_type": "stream",
     "text": [
      "Collecting git+https://github.com/slremy/estool\n",
      "  Cloning https://github.com/slremy/estool to /tmp/pip-req-build-r_o4rhrr\n",
      "Collecting git+https://github.com/slremy/netsapi\n",
      "  Cloning https://github.com/slremy/netsapi to /tmp/pip-req-build-02b7ffma\n",
      "Building wheels for collected packages: estool, netsapi\n",
      "  Building wheel for estool (setup.py) ... \u001b[?25ldone\n",
      "\u001b[?25h  Stored in directory: /tmp/pip-ephem-wheel-cache-drg26bxk/wheels/ae/d6/49/601d1979c4702fe2f583735c83f276000b8a4d8d0013ca60fd\n",
      "  Building wheel for netsapi (setup.py) ... \u001b[?25ldone\n",
      "\u001b[?25h  Stored in directory: /tmp/pip-ephem-wheel-cache-drg26bxk/wheels/9e/73/c9/86a9cc2460e11b3ce5b0a5ebd2d9d332a68afe0941659967fa\n",
      "Successfully built estool netsapi\n",
      "Installing collected packages: estool, netsapi\n",
      "  Found existing installation: estool 1.0\n",
      "    Uninstalling estool-1.0:\n",
      "      Successfully uninstalled estool-1.0\n",
      "  Found existing installation: netsapi 1.0\n",
      "    Uninstalling netsapi-1.0:\n",
      "      Successfully uninstalled netsapi-1.0\n",
      "Successfully installed estool-1.0 netsapi-1.0\n",
      "The autoreload extension is already loaded. To reload it, use:\n",
      "  %reload_ext autoreload\n"
     ]
    }
   ],
   "source": [
    "!pip install git+https://github.com/slremy/estool git+https://github.com/slremy/netsapi --user --upgrade\n",
    "%load_ext autoreload\n",
    "%autoreload 2    \n",
    "\n",
    "import numpy as np\n",
    "\n",
    "from netsapi.challenge import *\n",
    "from netsapi.visualisation import *\n",
    "from es import SimpleGA, RemyGA\n",
    "\n",
    "from sys import exit, exc_info, argv\n",
    "\n",
    "userId = None"
   ]
  },
  {
   "cell_type": "code",
   "execution_count": null,
   "metadata": {},
   "outputs": [],
   "source": []
  }
 ],
 "metadata": {
  "kernelspec": {
   "display_name": "Python 2",
   "language": "python",
   "name": "python2"
  },
  "language_info": {
   "codemirror_mode": {
    "name": "ipython",
    "version": 3
   },
   "file_extension": ".py",
   "mimetype": "text/x-python",
   "name": "python",
   "nbconvert_exporter": "python",
   "pygments_lexer": "ipython3",
   "version": "3.7.0"
  }
 },
 "nbformat": 4,
 "nbformat_minor": 2
}
