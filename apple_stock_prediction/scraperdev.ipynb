{
 "cells": [
  {
   "cell_type": "code",
   "execution_count": 2,
   "metadata": {},
   "outputs": [],
   "source": [
    "from bs4 import BeautifulSoup\n",
    "from requests import post"
   ]
  },
  {
   "cell_type": "code",
   "execution_count": 3,
   "metadata": {},
   "outputs": [],
   "source": [
    "post_data = {\n",
    "    \"curr_id\": \"6408\",\n",
    "    \"smlID\": \"1159963\",\n",
    "    \"header\": \"AAPL+Historical+Data\",\n",
    "    \"st_date\": \"08/27/2009\",\n",
    "    \"end_date\": '08/22/2019',\n",
    "    \"interval_sec\": \"Daily\",\n",
    "    \"sort_col\": \"date\",\n",
    "    \"sort_ord\": \"DESC\",\n",
    "    \"action\": \"historical_data\"\n",
    "\n",
    "}\n",
    "\n",
    "url_header = {\n",
    "    \"Host\": \"www.investing.com\",\n",
    "    \"User-Agent\": \"Mozilla/5.0 (Windows NT 10.0; Win64; x64; rv:68.0) Gecko/20100101 Firefox/68.0\",\n",
    "    \"Accept\": \"text/plain, */*; q=0.01\",\n",
    "    \"Accept-Language\": \"en-US,en;q=0.5\",\n",
    "    \"Accept-Encoding\": \"gzip, deflate, br\",\n",
    "    \"Content-Type\": \"application/x-www-form-urlencoded\",\n",
    "    \"X-Requested-With\": \"XMLHttpRequest\",\n",
    "    \"Content-Length\": \"173\",\n",
    "    \"DNT\": \"1\",\n",
    "    \"Connection\": \"keep-alive\",\n",
    "    \"Referer\": \"https://www.investing.com/equities/safaricom-historical-data\",\n",
    "    \"Cookie\": \"PHPSESSID=bf701n9pdqang2dlpbio9alu5a; adBlockerNewUserDomains=1566886624; StickySession=id.92576375680.767_www.investing.com; adbBLk=1; billboardCounter_1=0; G_ENABLED_IDPS=google; r_p_s_n=1; SideBlockUser=%61%3a%32%3a%7b%73%3a%31%30%3a%22%73%74%61%63%6b%5f%73%69%7a%65%22%3b%61%3a%31%3a%7b%73%3a%31%31%3a%22%6c%61%73%74%5f%71%75%6f%74%65%73%22%3b%69%3a%38%3b%7d%73%3a%36%3a%22%73%74%61%63%6b%73%22%3b%61%3a%31%3a%7b%73%3a%31%31%3a%22%6c%61%73%74%5f%71%75%6f%74%65%73%22%3b%61%3a%31%3a%7b%69%3a%30%3b%61%3a%33%3a%7b%73%3a%37%3a%22%70%61%69%72%5f%49%44%22%3b%73%3a%34%3a%22%36%34%30%38%22%3b%73%3a%31%30%3a%22%70%61%69%72%5f%74%69%74%6c%65%22%3b%73%3a%30%3a%22%22%3b%73%3a%39%3a%22%70%61%69%72%5f%6c%69%6e%6b%22%3b%73%3a%32%38%3a%22%2f%65%71%75%69%74%69%65%73%2f%61%70%70%6c%65%2d%63%6f%6d%70%75%74%65%72%2d%69%6e%63%22%3b%7d%7d%7d%7d; sideBlockTimeframe=max; geoC=KE; gtmFired=OK; nyxDorf=Z2YyYGYuNWE1Yz4sNWdlbj5tN3JjZTo6PTo%2F\",\n",
    "}\n",
    "url = \"https://www.investing.com/instruments/HistoricalDataAjax\"\n"
   ]
  },
  {
   "cell_type": "code",
   "execution_count": 4,
   "metadata": {},
   "outputs": [],
   "source": [
    "response = post(url, headers=url_header, data=post_data)"
   ]
  },
  {
   "cell_type": "code",
   "execution_count": 5,
   "metadata": {},
   "outputs": [],
   "source": [
    "soup = BeautifulSoup(response.content, 'html.parser')"
   ]
  },
  {
   "cell_type": "code",
   "execution_count": 6,
   "metadata": {},
   "outputs": [],
   "source": [
    "aa = soup.find(\"table\", {\"id\": \"curr_table\"}).findAll(\"tr\")"
   ]
  },
  {
   "cell_type": "code",
   "execution_count": 7,
   "metadata": {},
   "outputs": [],
   "source": [
    "with open('outfile.csv', 'a+') as f:\n",
    "        f.write(\"date,\\tyear,\\tprice,\\topen,\\thigh,\\tlow,\\tvol,\\tchange\")\n",
    "        f.close()\n",
    "for tr in aa:\n",
    "    tds = tr.find_all('td')\n",
    "    dat_list = []\n",
    "    for t in tds:\n",
    "        dat_list.append(t.text)\n",
    "    with open('outfile.csv', 'a+') as f:\n",
    "        for item in dat_list:\n",
    "            f.write(\"%s,\\t\" % item)\n",
    "        f.write(\"\\n\")"
   ]
  },
  {
   "cell_type": "code",
   "execution_count": null,
   "metadata": {},
   "outputs": [],
   "source": []
  }
 ],
 "metadata": {
  "kernelspec": {
   "display_name": "Python 3",
   "language": "python",
   "name": "python3"
  },
  "language_info": {
   "codemirror_mode": {
    "name": "ipython",
    "version": 3
   },
   "file_extension": ".py",
   "mimetype": "text/x-python",
   "name": "python",
   "nbconvert_exporter": "python",
   "pygments_lexer": "ipython3",
   "version": "3.7.0"
  },
  "toc": {
   "base_numbering": 1,
   "nav_menu": {},
   "number_sections": true,
   "sideBar": true,
   "skip_h1_title": false,
   "title_cell": "Table of Contents",
   "title_sidebar": "Contents",
   "toc_cell": false,
   "toc_position": {},
   "toc_section_display": true,
   "toc_window_display": false
  }
 },
 "nbformat": 4,
 "nbformat_minor": 2
}
