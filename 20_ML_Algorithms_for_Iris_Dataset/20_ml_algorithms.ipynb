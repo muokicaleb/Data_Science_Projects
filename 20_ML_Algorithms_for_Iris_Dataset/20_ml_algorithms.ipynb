{
 "cells": [
  {
   "cell_type": "markdown",
   "metadata": {},
   "source": [
    "## Introduction\n",
    "<p>We will be covering various ML algorithms while working on the Iris dataset. This is a common dataset and is referred to as the \"Hello world\" of machine learning.</p>\n",
    "<h2>Problem Definition.</h2>\n",
    "<p>Problem definition is broken down to four steps.\n",
    "<ol>\n",
    "    <li>Problem Feature - The dataset contains information about 3 different types of iris flowers: Iris Versicolor, Iris Virginica and Iris Setosa.\n",
    "</li>   \n",
    "    <li>Aim - to classify iris flowers among three species (setosa, versicolor or virginica) from measurements of length and width of sepals and petals </li>\n",
    "    <li>Variables :\n",
    "        <ul>\n",
    "    <li>sepal_length: Sepal length, in centimeters, used as input.</li>\n",
    "    <li>sepal_width: Sepal width, in centimeters, used as input.</li>\n",
    "    <li>petal_length: Petal length, in centimeters, used as input.</li>\n",
    "    <li>petal_width: Petal width, in centimeters, used as input.</li>\n",
    "    <li>setosa: Iris setosa, true or false, used as target. </li>\n",
    "    <li>versicolour: Iris versicolour, true or false, used as target.</li> \n",
    "    <li>virginica: Iris virginica, true or false, used as target.</li>\n",
    "    </ul>\n",
    "    </li>\n",
    "     <li>Inputs- This is a clustering and classification problem. the dataset will be used as the input of all the algorithms</li>\n",
    "<ol>\n",
    "</p>"
   ]
  },
  {
   "cell_type": "markdown",
   "metadata": {},
   "source": [
    "<h3>Imports</h3>\n",
    "we will need various packages for our project"
   ]
  },
  {
   "cell_type": "code",
   "execution_count": 2,
   "metadata": {},
   "outputs": [],
   "source": [
    "from sklearn.model_selection import train_test_split\n",
    "from sklearn.metrics import classification_report\n",
    "from sklearn.metrics import confusion_matrix\n",
    "from sklearn.metrics import accuracy_score\n",
    "from sklearn.decomposition import PCA\n",
    "import matplotlib.pyplot as plt\n",
    "from pandas import get_dummies\n",
    "import plotly.graph_objs as go\n",
    "from sklearn import datasets\n",
    "import plotly.plotly as py\n",
    "import seaborn as sns\n",
    "import pandas as pd\n",
    "import numpy as np\n",
    "import warnings\n",
    "import scipy\n",
    "import numpy\n",
    "import json\n",
    "import sys"
   ]
  },
  {
   "cell_type": "markdown",
   "metadata": {},
   "source": [
    "<h3>Exploratory Data Analysis(EDA)</h3>\n",
    "<p>BY use of graphical and numerical techiques we will uncover :\n",
    "<ul>\n",
    "    <li>Which varibles suggest interesting relationships.</li>\n",
    "    <li>Which observations are unusual.</li>\n",
    "</ul>\n",
    "</p>"
   ]
  },
  {
   "cell_type": "markdown",
   "metadata": {},
   "source": [
    "<h4>Data Collection.</h4>\n",
    " <p>This is the process of gathering and measuring data, information or any variables of interest in a standardized and established manner that enables the collector to answer or test hypothesis and evaluate outcomes of the particular collection.</p>\n",
    " <p>Iris dataset consists of 3 different types of irises’ (Setosa, Versicolour, and Virginica) petal and sepal length, stored in a 150x4 numpy.ndarray.\n",
    "The rows being the samples and the columns being: Sepal Length, Sepal Width, Petal Length and Petal Width.</p>"
   ]
  },
  {
   "cell_type": "code",
   "execution_count": 3,
   "metadata": {},
   "outputs": [
    {
     "data": {
      "text/plain": [
       "pandas.core.frame.DataFrame"
      ]
     },
     "execution_count": 3,
     "metadata": {},
     "output_type": "execute_result"
    }
   ],
   "source": [
    "# load the dataset\n",
    "dataset = pd.read_csv('Iris.csv')\n",
    "type(dataset)"
   ]
  },
  {
   "cell_type": "markdown",
   "metadata": {},
   "source": [
    "<h4>Vis</h4>\n",
    "<p>Data visualization is the presentation of data in a pictorial or graphical format. It enables decision makers to see analytics presented visually, so they can grasp difficult concepts or identify new patterns.</p>\n"
   ]
  }
 ],
 "metadata": {
  "kernelspec": {
   "display_name": "Python 3",
   "language": "python",
   "name": "python3"
  },
  "language_info": {
   "codemirror_mode": {
    "name": "ipython",
    "version": 3
   },
   "file_extension": ".py",
   "mimetype": "text/x-python",
   "name": "python",
   "nbconvert_exporter": "python",
   "pygments_lexer": "ipython3",
   "version": "3.6.6"
  }
 },
 "nbformat": 4,
 "nbformat_minor": 2
}
