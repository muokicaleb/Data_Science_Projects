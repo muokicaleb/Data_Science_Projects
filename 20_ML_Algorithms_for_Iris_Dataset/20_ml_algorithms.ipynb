{
 "cells": [
  {
   "cell_type": "markdown",
   "metadata": {},
   "source": [
    "## Introduction\n",
    "<p>We will be covering various ML algorithms while working on the Iris dataset. This is a common dataset and is referred to as the \"Hello world\" of machine learning.</p>\n",
    "<h2>Problem Definition.</h2>\n",
    "<p>Problem definition is broken down to four steps.\n",
    "<ol>\n",
    "    <li>Problem Feature - The dataset contains information about 3 different types of iris flowers: Iris Versicolor, Iris Virginica and Iris Setosa.\n",
    "</li>   \n",
    "    <li>Aim - to classify iris flowers among three species (setosa, versicolor or virginica) from measurements of length and width of sepals and petals </li>\n",
    "    <li>Variables :\n",
    "        <ul>\n",
    "    <li>sepal_length: Sepal length, in centimeters, used as input.</li>\n",
    "    <li>sepal_width: Sepal width, in centimeters, used as input.</li>\n",
    "    <li>petal_length: Petal length, in centimeters, used as input.</li>\n",
    "    <li>petal_width: Petal width, in centimeters, used as input.</li>\n",
    "    <li>setosa: Iris setosa, true or false, used as target. </li>\n",
    "    <li>versicolour: Iris versicolour, true or false, used as target.</li> \n",
    "    <li>virginica: Iris virginica, true or false, used as target.</li>\n",
    "    </ul>\n",
    "    </li>\n",
    "     <li>Inputs- This is a clustering and classification problem. the dataset will be used as the input of all the algorithms</li>\n",
    "<ol>\n",
    "</p>"
   ]
  },
  {
   "cell_type": "markdown",
   "metadata": {},
   "source": [
    "<h3>Imports</h3>\n",
    "we will need various packages for our project"
   ]
  },
  {
   "cell_type": "code",
   "execution_count": null,
   "metadata": {},
   "outputs": [],
   "source": [
    "from sklearn.model_selection import train_test_split\n",
    "from sklearn.metrics import classification_report\n",
    "from sklearn.metrics import confusion_matrix\n",
    "from sklearn.metrics import accuracy_score\n",
    "from sklearn.decomposition import PCA\n",
    "import matplotlib.pyplot as plt\n",
    "from pandas import get_dummies\n",
    "import plotly.graph_objs as go\n",
    "from sklearn import datasets\n",
    "import plotly.plotly as py\n",
    "import seaborn as sns\n",
    "import pandas as pd\n",
    "import numpy as np\n",
    "import warnings\n",
    "\n",
    "import scipy\n",
    "import numpy\n",
    "import json\n",
    "import sys\n",
    "import os"
   ]
  },
  {
   "cell_type": "code",
   "execution_count": null,
   "metadata": {},
   "outputs": [],
   "source": []
  }
 ],
 "metadata": {
  "kernelspec": {
   "display_name": "Python 3",
   "language": "python",
   "name": "python3"
  },
  "language_info": {
   "codemirror_mode": {
    "name": "ipython",
    "version": 3
   },
   "file_extension": ".py",
   "mimetype": "text/x-python",
   "name": "python",
   "nbconvert_exporter": "python",
   "pygments_lexer": "ipython3",
   "version": "3.6.6"
  }
 },
 "nbformat": 4,
 "nbformat_minor": 2
}
